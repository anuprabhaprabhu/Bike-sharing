{
 "cells": [
  {
   "cell_type": "markdown",
   "metadata": {},
   "source": [
    "# Bike Sharing Assignment\n",
    "\n",
    "\n",
    "Business objective :\n",
    "\n",
    "  'BoomBikes' provides bike-sharing service in which bikes are made available for shared use to individuals on a short term basis for a price or free.The company wants to know:\n",
    "\n",
    "- Which variables are significant in predicting the demand for shared bikes.\n",
    "- How well those variables describe the bike demands\n",
    "\n",
    "Goal:\n",
    "\n",
    "    Build a multiple linear regression model for the prediction of demand for shared bikes. \n"
   ]
  },
  {
   "cell_type": "markdown",
   "metadata": {},
   "source": [
    "# Step 1: Reading and Understanding the Data"
   ]
  },
  {
   "cell_type": "code",
   "execution_count": 1,
   "metadata": {},
   "outputs": [],
   "source": [
    "# Import libraries\n",
    "\n",
    "import pandas as pd\n",
    "import numpy as np\n",
    "import calendar \n",
    "\n",
    "import warnings\n",
    "warnings.filterwarnings('ignore')\n",
    "import matplotlib.pyplot as plt\n",
    "import seaborn as sns\n",
    "\n",
    "from sklearn.model_selection import train_test_split\n",
    "from sklearn.preprocessing import MinMaxScaler\n",
    "from sklearn.feature_selection import RFE\n",
    "from sklearn.linear_model import LinearRegression\n",
    "from sklearn.metrics import mean_squared_error\n",
    "from sklearn.metrics import r2_score\n",
    "\n",
    "import statsmodels.api as sm  \n",
    "from statsmodels.stats.outliers_influence import variance_inflation_factor\n"
   ]
  },
  {
   "cell_type": "code",
   "execution_count": 2,
   "metadata": {},
   "outputs": [
    {
     "data": {
      "text/html": [
       "<div>\n",
       "<style scoped>\n",
       "    .dataframe tbody tr th:only-of-type {\n",
       "        vertical-align: middle;\n",
       "    }\n",
       "\n",
       "    .dataframe tbody tr th {\n",
       "        vertical-align: top;\n",
       "    }\n",
       "\n",
       "    .dataframe thead th {\n",
       "        text-align: right;\n",
       "    }\n",
       "</style>\n",
       "<table border=\"1\" class=\"dataframe\">\n",
       "  <thead>\n",
       "    <tr style=\"text-align: right;\">\n",
       "      <th></th>\n",
       "      <th>instant</th>\n",
       "      <th>dteday</th>\n",
       "      <th>season</th>\n",
       "      <th>yr</th>\n",
       "      <th>mnth</th>\n",
       "      <th>holiday</th>\n",
       "      <th>weekday</th>\n",
       "      <th>workingday</th>\n",
       "      <th>weathersit</th>\n",
       "      <th>temp</th>\n",
       "      <th>atemp</th>\n",
       "      <th>hum</th>\n",
       "      <th>windspeed</th>\n",
       "      <th>casual</th>\n",
       "      <th>registered</th>\n",
       "      <th>cnt</th>\n",
       "    </tr>\n",
       "  </thead>\n",
       "  <tbody>\n",
       "    <tr>\n",
       "      <th>0</th>\n",
       "      <td>1</td>\n",
       "      <td>01-01-2018</td>\n",
       "      <td>1</td>\n",
       "      <td>0</td>\n",
       "      <td>1</td>\n",
       "      <td>0</td>\n",
       "      <td>6</td>\n",
       "      <td>0</td>\n",
       "      <td>2</td>\n",
       "      <td>14.110847</td>\n",
       "      <td>18.18125</td>\n",
       "      <td>80.5833</td>\n",
       "      <td>10.749882</td>\n",
       "      <td>331</td>\n",
       "      <td>654</td>\n",
       "      <td>985</td>\n",
       "    </tr>\n",
       "    <tr>\n",
       "      <th>1</th>\n",
       "      <td>2</td>\n",
       "      <td>02-01-2018</td>\n",
       "      <td>1</td>\n",
       "      <td>0</td>\n",
       "      <td>1</td>\n",
       "      <td>0</td>\n",
       "      <td>0</td>\n",
       "      <td>0</td>\n",
       "      <td>2</td>\n",
       "      <td>14.902598</td>\n",
       "      <td>17.68695</td>\n",
       "      <td>69.6087</td>\n",
       "      <td>16.652113</td>\n",
       "      <td>131</td>\n",
       "      <td>670</td>\n",
       "      <td>801</td>\n",
       "    </tr>\n",
       "    <tr>\n",
       "      <th>2</th>\n",
       "      <td>3</td>\n",
       "      <td>03-01-2018</td>\n",
       "      <td>1</td>\n",
       "      <td>0</td>\n",
       "      <td>1</td>\n",
       "      <td>0</td>\n",
       "      <td>1</td>\n",
       "      <td>1</td>\n",
       "      <td>1</td>\n",
       "      <td>8.050924</td>\n",
       "      <td>9.47025</td>\n",
       "      <td>43.7273</td>\n",
       "      <td>16.636703</td>\n",
       "      <td>120</td>\n",
       "      <td>1229</td>\n",
       "      <td>1349</td>\n",
       "    </tr>\n",
       "    <tr>\n",
       "      <th>3</th>\n",
       "      <td>4</td>\n",
       "      <td>04-01-2018</td>\n",
       "      <td>1</td>\n",
       "      <td>0</td>\n",
       "      <td>1</td>\n",
       "      <td>0</td>\n",
       "      <td>2</td>\n",
       "      <td>1</td>\n",
       "      <td>1</td>\n",
       "      <td>8.200000</td>\n",
       "      <td>10.60610</td>\n",
       "      <td>59.0435</td>\n",
       "      <td>10.739832</td>\n",
       "      <td>108</td>\n",
       "      <td>1454</td>\n",
       "      <td>1562</td>\n",
       "    </tr>\n",
       "    <tr>\n",
       "      <th>4</th>\n",
       "      <td>5</td>\n",
       "      <td>05-01-2018</td>\n",
       "      <td>1</td>\n",
       "      <td>0</td>\n",
       "      <td>1</td>\n",
       "      <td>0</td>\n",
       "      <td>3</td>\n",
       "      <td>1</td>\n",
       "      <td>1</td>\n",
       "      <td>9.305237</td>\n",
       "      <td>11.46350</td>\n",
       "      <td>43.6957</td>\n",
       "      <td>12.522300</td>\n",
       "      <td>82</td>\n",
       "      <td>1518</td>\n",
       "      <td>1600</td>\n",
       "    </tr>\n",
       "    <tr>\n",
       "      <th>5</th>\n",
       "      <td>6</td>\n",
       "      <td>06-01-2018</td>\n",
       "      <td>1</td>\n",
       "      <td>0</td>\n",
       "      <td>1</td>\n",
       "      <td>0</td>\n",
       "      <td>4</td>\n",
       "      <td>1</td>\n",
       "      <td>1</td>\n",
       "      <td>8.378268</td>\n",
       "      <td>11.66045</td>\n",
       "      <td>51.8261</td>\n",
       "      <td>6.000868</td>\n",
       "      <td>88</td>\n",
       "      <td>1518</td>\n",
       "      <td>1606</td>\n",
       "    </tr>\n",
       "    <tr>\n",
       "      <th>6</th>\n",
       "      <td>7</td>\n",
       "      <td>07-01-2018</td>\n",
       "      <td>1</td>\n",
       "      <td>0</td>\n",
       "      <td>1</td>\n",
       "      <td>0</td>\n",
       "      <td>5</td>\n",
       "      <td>1</td>\n",
       "      <td>2</td>\n",
       "      <td>8.057402</td>\n",
       "      <td>10.44195</td>\n",
       "      <td>49.8696</td>\n",
       "      <td>11.304642</td>\n",
       "      <td>148</td>\n",
       "      <td>1362</td>\n",
       "      <td>1510</td>\n",
       "    </tr>\n",
       "    <tr>\n",
       "      <th>7</th>\n",
       "      <td>8</td>\n",
       "      <td>08-01-2018</td>\n",
       "      <td>1</td>\n",
       "      <td>0</td>\n",
       "      <td>1</td>\n",
       "      <td>0</td>\n",
       "      <td>6</td>\n",
       "      <td>0</td>\n",
       "      <td>2</td>\n",
       "      <td>6.765000</td>\n",
       "      <td>8.11270</td>\n",
       "      <td>53.5833</td>\n",
       "      <td>17.875868</td>\n",
       "      <td>68</td>\n",
       "      <td>891</td>\n",
       "      <td>959</td>\n",
       "    </tr>\n",
       "    <tr>\n",
       "      <th>8</th>\n",
       "      <td>9</td>\n",
       "      <td>09-01-2018</td>\n",
       "      <td>1</td>\n",
       "      <td>0</td>\n",
       "      <td>1</td>\n",
       "      <td>0</td>\n",
       "      <td>0</td>\n",
       "      <td>0</td>\n",
       "      <td>1</td>\n",
       "      <td>5.671653</td>\n",
       "      <td>5.80875</td>\n",
       "      <td>43.4167</td>\n",
       "      <td>24.250650</td>\n",
       "      <td>54</td>\n",
       "      <td>768</td>\n",
       "      <td>822</td>\n",
       "    </tr>\n",
       "    <tr>\n",
       "      <th>9</th>\n",
       "      <td>10</td>\n",
       "      <td>10-01-2018</td>\n",
       "      <td>1</td>\n",
       "      <td>0</td>\n",
       "      <td>1</td>\n",
       "      <td>0</td>\n",
       "      <td>1</td>\n",
       "      <td>1</td>\n",
       "      <td>1</td>\n",
       "      <td>6.184153</td>\n",
       "      <td>7.54440</td>\n",
       "      <td>48.2917</td>\n",
       "      <td>14.958889</td>\n",
       "      <td>41</td>\n",
       "      <td>1280</td>\n",
       "      <td>1321</td>\n",
       "    </tr>\n",
       "  </tbody>\n",
       "</table>\n",
       "</div>"
      ],
      "text/plain": [
       "   instant      dteday  season  yr  mnth  holiday  weekday  workingday  \\\n",
       "0        1  01-01-2018       1   0     1        0        6           0   \n",
       "1        2  02-01-2018       1   0     1        0        0           0   \n",
       "2        3  03-01-2018       1   0     1        0        1           1   \n",
       "3        4  04-01-2018       1   0     1        0        2           1   \n",
       "4        5  05-01-2018       1   0     1        0        3           1   \n",
       "5        6  06-01-2018       1   0     1        0        4           1   \n",
       "6        7  07-01-2018       1   0     1        0        5           1   \n",
       "7        8  08-01-2018       1   0     1        0        6           0   \n",
       "8        9  09-01-2018       1   0     1        0        0           0   \n",
       "9       10  10-01-2018       1   0     1        0        1           1   \n",
       "\n",
       "   weathersit       temp     atemp      hum  windspeed  casual  registered  \\\n",
       "0           2  14.110847  18.18125  80.5833  10.749882     331         654   \n",
       "1           2  14.902598  17.68695  69.6087  16.652113     131         670   \n",
       "2           1   8.050924   9.47025  43.7273  16.636703     120        1229   \n",
       "3           1   8.200000  10.60610  59.0435  10.739832     108        1454   \n",
       "4           1   9.305237  11.46350  43.6957  12.522300      82        1518   \n",
       "5           1   8.378268  11.66045  51.8261   6.000868      88        1518   \n",
       "6           2   8.057402  10.44195  49.8696  11.304642     148        1362   \n",
       "7           2   6.765000   8.11270  53.5833  17.875868      68         891   \n",
       "8           1   5.671653   5.80875  43.4167  24.250650      54         768   \n",
       "9           1   6.184153   7.54440  48.2917  14.958889      41        1280   \n",
       "\n",
       "    cnt  \n",
       "0   985  \n",
       "1   801  \n",
       "2  1349  \n",
       "3  1562  \n",
       "4  1600  \n",
       "5  1606  \n",
       "6  1510  \n",
       "7   959  \n",
       "8   822  \n",
       "9  1321  "
      ]
     },
     "execution_count": 2,
     "metadata": {},
     "output_type": "execute_result"
    }
   ],
   "source": [
    "# Read csv file\n",
    "day = pd.read_csv('day.csv')\n",
    "day.head(10)"
   ]
  },
  {
   "cell_type": "code",
   "execution_count": 3,
   "metadata": {},
   "outputs": [
    {
     "data": {
      "text/plain": [
       "(730, 16)"
      ]
     },
     "execution_count": 3,
     "metadata": {},
     "output_type": "execute_result"
    }
   ],
   "source": [
    "day.shape"
   ]
  },
  {
   "cell_type": "code",
   "execution_count": 4,
   "metadata": {},
   "outputs": [
    {
     "name": "stdout",
     "output_type": "stream",
     "text": [
      "<class 'pandas.core.frame.DataFrame'>\n",
      "RangeIndex: 730 entries, 0 to 729\n",
      "Data columns (total 16 columns):\n",
      " #   Column      Non-Null Count  Dtype  \n",
      "---  ------      --------------  -----  \n",
      " 0   instant     730 non-null    int64  \n",
      " 1   dteday      730 non-null    object \n",
      " 2   season      730 non-null    int64  \n",
      " 3   yr          730 non-null    int64  \n",
      " 4   mnth        730 non-null    int64  \n",
      " 5   holiday     730 non-null    int64  \n",
      " 6   weekday     730 non-null    int64  \n",
      " 7   workingday  730 non-null    int64  \n",
      " 8   weathersit  730 non-null    int64  \n",
      " 9   temp        730 non-null    float64\n",
      " 10  atemp       730 non-null    float64\n",
      " 11  hum         730 non-null    float64\n",
      " 12  windspeed   730 non-null    float64\n",
      " 13  casual      730 non-null    int64  \n",
      " 14  registered  730 non-null    int64  \n",
      " 15  cnt         730 non-null    int64  \n",
      "dtypes: float64(4), int64(11), object(1)\n",
      "memory usage: 91.4+ KB\n"
     ]
    }
   ],
   "source": [
    "day.info()"
   ]
  },
  {
   "cell_type": "markdown",
   "metadata": {},
   "source": [
    "### Drop variables:\n",
    "\n",
    "1. instant - contains record index\n",
    "2. dteday - date/month/year . but dataframe has seperate columns for month , year and day\n",
    "3. casual- count of casual users \n",
    "4. registered - count of registered users\n",
    "\n",
    "cnt = casual + registered "
   ]
  },
  {
   "cell_type": "code",
   "execution_count": 5,
   "metadata": {},
   "outputs": [
    {
     "data": {
      "text/plain": [
       "(730, 12)"
      ]
     },
     "execution_count": 5,
     "metadata": {},
     "output_type": "execute_result"
    }
   ],
   "source": [
    "# Drop instant ,dteday,casual,registered\n",
    "\n",
    "day = day.drop(['instant','dteday','casual','registered'],axis=1)\n",
    "day.shape"
   ]
  },
  {
   "cell_type": "markdown",
   "metadata": {},
   "source": [
    "Target variable :  cnt = casual + registered "
   ]
  },
  {
   "cell_type": "markdown",
   "metadata": {},
   "source": [
    "### Lable categories :\n",
    "\n",
    "Some variables in the dataframe have values such as 0,1,2 etc with lables asssociated with them . So convert\n",
    "those variables into categorical string values before dummy encoding .\n",
    "- The variables are : mnth , season, weathersit and weekday"
   ]
  },
  {
   "cell_type": "markdown",
   "metadata": {},
   "source": [
    "Convert numeric values in 'mnth' into categorical strings .\n",
    "- 0- January\n",
    "- 1- Feb  etc.\n"
   ]
  },
  {
   "cell_type": "code",
   "execution_count": 6,
   "metadata": {},
   "outputs": [
    {
     "data": {
      "text/plain": [
       "0       January\n",
       "1       January\n",
       "2       January\n",
       "3       January\n",
       "4       January\n",
       "         ...   \n",
       "725    December\n",
       "726    December\n",
       "727    December\n",
       "728    December\n",
       "729    December\n",
       "Name: mnth, Length: 730, dtype: object"
      ]
     },
     "execution_count": 6,
     "metadata": {},
     "output_type": "execute_result"
    }
   ],
   "source": [
    "# mnth\n",
    "# calendar library is used to name months depending of numbers . 0- january etc\n",
    "day['mnth'] = day['mnth'].apply(lambda x:calendar.month_name[x])\n",
    "day.mnth"
   ]
  },
  {
   "cell_type": "code",
   "execution_count": 7,
   "metadata": {},
   "outputs": [],
   "source": [
    "# season lables are given in the dataset characteristics\n",
    "\n",
    "day['season'] = day['season'].map({1:'spring', 2:'summer', 3:'fall', 4:'winter'})"
   ]
  },
  {
   "cell_type": "markdown",
   "metadata": {},
   "source": [
    "#### Lable 'weekday' :\n",
    "- with reference to the given 'workingday' , 'weekdays' are labeled as given below :\n",
    "- In 'workingday' - > 0 - saturday,sunday and 1 - monday to friday\n",
    "- 'weekdays' are represented by : 0-'sunday',1-'monday',2-'tuesday',3-'wednesday',4-'thursday',5-'friday',6-'saturday'"
   ]
  },
  {
   "cell_type": "code",
   "execution_count": 8,
   "metadata": {},
   "outputs": [
    {
     "data": {
      "text/plain": [
       "0       saturday\n",
       "1         sunday\n",
       "2         monday\n",
       "3        tuesday\n",
       "4      wednesday\n",
       "         ...    \n",
       "725     thursday\n",
       "726       friday\n",
       "727     saturday\n",
       "728       sunday\n",
       "729       monday\n",
       "Name: weekday, Length: 730, dtype: object"
      ]
     },
     "execution_count": 8,
     "metadata": {},
     "output_type": "execute_result"
    }
   ],
   "source": [
    "# weekdays numbers to days\n",
    "\n",
    "day['weekday'] = day['weekday'].map({0:'sunday',1:'monday',2:'tuesday',3:'wednesday',4:'thursday',5:'friday',6:'saturday'})\n",
    "day.weekday"
   ]
  },
  {
   "cell_type": "code",
   "execution_count": 9,
   "metadata": {},
   "outputs": [],
   "source": [
    "# chaging weathersit \n",
    "# 4 -> Heavy snow is not in data frame\n",
    "day['weathersit'] = day['weathersit'].map({1:'clear',2:'mist',3:'light snow'})"
   ]
  },
  {
   "cell_type": "markdown",
   "metadata": {},
   "source": [
    "#### Round decimal points :\n",
    "- Round upto 2 decimal places for columns temp, atemp , hum , windspeed ."
   ]
  },
  {
   "cell_type": "code",
   "execution_count": 10,
   "metadata": {},
   "outputs": [],
   "source": [
    "# round upto 2 decimal places \n",
    "\n",
    "day['temp'] = day['temp'].apply(lambda x:round(x,2))\n",
    "day['atemp'] = day['atemp'].apply(lambda x:round(x,2))\n",
    "day['hum'] = day['hum'].apply(lambda x:round(x,2))\n",
    "day['windspeed'] = day['windspeed'].apply(lambda x:round(x,2))\n"
   ]
  },
  {
   "cell_type": "code",
   "execution_count": 11,
   "metadata": {},
   "outputs": [
    {
     "data": {
      "text/plain": [
       "season         object\n",
       "yr              int64\n",
       "mnth           object\n",
       "holiday         int64\n",
       "weekday        object\n",
       "workingday      int64\n",
       "weathersit     object\n",
       "temp          float64\n",
       "atemp         float64\n",
       "hum           float64\n",
       "windspeed     float64\n",
       "cnt             int64\n",
       "dtype: object"
      ]
     },
     "execution_count": 11,
     "metadata": {},
     "output_type": "execute_result"
    }
   ],
   "source": [
    "# check data types \n",
    "day.dtypes"
   ]
  },
  {
   "cell_type": "markdown",
   "metadata": {},
   "source": [
    "All columns have appropriate data type ."
   ]
  },
  {
   "cell_type": "code",
   "execution_count": 12,
   "metadata": {},
   "outputs": [
    {
     "data": {
      "text/html": [
       "<div>\n",
       "<style scoped>\n",
       "    .dataframe tbody tr th:only-of-type {\n",
       "        vertical-align: middle;\n",
       "    }\n",
       "\n",
       "    .dataframe tbody tr th {\n",
       "        vertical-align: top;\n",
       "    }\n",
       "\n",
       "    .dataframe thead th {\n",
       "        text-align: right;\n",
       "    }\n",
       "</style>\n",
       "<table border=\"1\" class=\"dataframe\">\n",
       "  <thead>\n",
       "    <tr style=\"text-align: right;\">\n",
       "      <th></th>\n",
       "      <th>season</th>\n",
       "      <th>yr</th>\n",
       "      <th>mnth</th>\n",
       "      <th>holiday</th>\n",
       "      <th>weekday</th>\n",
       "      <th>workingday</th>\n",
       "      <th>weathersit</th>\n",
       "      <th>temp</th>\n",
       "      <th>atemp</th>\n",
       "      <th>hum</th>\n",
       "      <th>windspeed</th>\n",
       "      <th>cnt</th>\n",
       "    </tr>\n",
       "  </thead>\n",
       "  <tbody>\n",
       "    <tr>\n",
       "      <th>0</th>\n",
       "      <td>spring</td>\n",
       "      <td>0</td>\n",
       "      <td>January</td>\n",
       "      <td>0</td>\n",
       "      <td>saturday</td>\n",
       "      <td>0</td>\n",
       "      <td>mist</td>\n",
       "      <td>14.11</td>\n",
       "      <td>18.18</td>\n",
       "      <td>80.58</td>\n",
       "      <td>10.75</td>\n",
       "      <td>985</td>\n",
       "    </tr>\n",
       "    <tr>\n",
       "      <th>1</th>\n",
       "      <td>spring</td>\n",
       "      <td>0</td>\n",
       "      <td>January</td>\n",
       "      <td>0</td>\n",
       "      <td>sunday</td>\n",
       "      <td>0</td>\n",
       "      <td>mist</td>\n",
       "      <td>14.90</td>\n",
       "      <td>17.69</td>\n",
       "      <td>69.61</td>\n",
       "      <td>16.65</td>\n",
       "      <td>801</td>\n",
       "    </tr>\n",
       "    <tr>\n",
       "      <th>2</th>\n",
       "      <td>spring</td>\n",
       "      <td>0</td>\n",
       "      <td>January</td>\n",
       "      <td>0</td>\n",
       "      <td>monday</td>\n",
       "      <td>1</td>\n",
       "      <td>clear</td>\n",
       "      <td>8.05</td>\n",
       "      <td>9.47</td>\n",
       "      <td>43.73</td>\n",
       "      <td>16.64</td>\n",
       "      <td>1349</td>\n",
       "    </tr>\n",
       "    <tr>\n",
       "      <th>3</th>\n",
       "      <td>spring</td>\n",
       "      <td>0</td>\n",
       "      <td>January</td>\n",
       "      <td>0</td>\n",
       "      <td>tuesday</td>\n",
       "      <td>1</td>\n",
       "      <td>clear</td>\n",
       "      <td>8.20</td>\n",
       "      <td>10.61</td>\n",
       "      <td>59.04</td>\n",
       "      <td>10.74</td>\n",
       "      <td>1562</td>\n",
       "    </tr>\n",
       "    <tr>\n",
       "      <th>4</th>\n",
       "      <td>spring</td>\n",
       "      <td>0</td>\n",
       "      <td>January</td>\n",
       "      <td>0</td>\n",
       "      <td>wednesday</td>\n",
       "      <td>1</td>\n",
       "      <td>clear</td>\n",
       "      <td>9.31</td>\n",
       "      <td>11.46</td>\n",
       "      <td>43.70</td>\n",
       "      <td>12.52</td>\n",
       "      <td>1600</td>\n",
       "    </tr>\n",
       "  </tbody>\n",
       "</table>\n",
       "</div>"
      ],
      "text/plain": [
       "   season  yr     mnth  holiday    weekday  workingday weathersit   temp  \\\n",
       "0  spring   0  January        0   saturday           0       mist  14.11   \n",
       "1  spring   0  January        0     sunday           0       mist  14.90   \n",
       "2  spring   0  January        0     monday           1      clear   8.05   \n",
       "3  spring   0  January        0    tuesday           1      clear   8.20   \n",
       "4  spring   0  January        0  wednesday           1      clear   9.31   \n",
       "\n",
       "   atemp    hum  windspeed   cnt  \n",
       "0  18.18  80.58      10.75   985  \n",
       "1  17.69  69.61      16.65   801  \n",
       "2   9.47  43.73      16.64  1349  \n",
       "3  10.61  59.04      10.74  1562  \n",
       "4  11.46  43.70      12.52  1600  "
      ]
     },
     "execution_count": 12,
     "metadata": {},
     "output_type": "execute_result"
    }
   ],
   "source": [
    "day.head()"
   ]
  },
  {
   "cell_type": "markdown",
   "metadata": {},
   "source": [
    "# Step 2: Visualising the Data"
   ]
  },
  {
   "cell_type": "markdown",
   "metadata": {},
   "source": [
    "#### Visualise numeric variables :\n",
    "\n",
    "Here heatmap is used to compare correlation between numeric variables."
   ]
  },
  {
   "cell_type": "code",
   "execution_count": 13,
   "metadata": {},
   "outputs": [
    {
     "data": {
      "image/png": "[encoded data removed]",
      "text/plain": [
       "<Figure size 1152x720 with 2 Axes>"
      ]
     },
     "metadata": {
      "needs_background": "light"
     },
     "output_type": "display_data"
    }
   ],
   "source": [
    "# heatmp\n",
    "plt.figure(figsize = (16, 10))\n",
    "sns.heatmap(day.corr(),annot=True)\n",
    "plt.show()"
   ]
  },
  {
   "cell_type": "markdown",
   "metadata": {},
   "source": [
    "From above : \n",
    "\n",
    "- 'yr' and 'cnt' are correlated.\n",
    "- temp and atemp have high correlation = 0.99 . Drop any one variable.\n",
    "    - temp : temperature in Celsius \n",
    "    - atemp: feeling temperature in Celsius"
   ]
  },
  {
   "cell_type": "code",
   "execution_count": 14,
   "metadata": {},
   "outputs": [
    {
     "data": {
      "text/plain": [
       "(730, 11)"
      ]
     },
     "execution_count": 14,
     "metadata": {},
     "output_type": "execute_result"
    }
   ],
   "source": [
    "# drop temp\n",
    "\n",
    "day = day.drop('temp',axis=1)\n",
    "day.shape"
   ]
  },
  {
   "cell_type": "markdown",
   "metadata": {},
   "source": [
    "#### Visualising Categorical Variables:\n",
    "Here subplot is used to plot categorical variables .\n"
   ]
  },
  {
   "cell_type": "code",
   "execution_count": 15,
   "metadata": {},
   "outputs": [
    {
     "data": {
      "image/png": "[encoded data removed]",
      "text/plain": [
       "<Figure size 1440x864 with 4 Axes>"
      ]
     },
     "metadata": {
      "needs_background": "light"
     },
     "output_type": "display_data"
    }
   ],
   "source": [
    "plt.figure(figsize=(20, 12))\n",
    "plt.subplot(2,2,1)\n",
    "sns.boxplot(x = 'mnth', y = 'cnt', data = day)\n",
    "\n",
    "plt.subplot(2,2,2)\n",
    "sns.boxplot(x = 'weekday', y = 'cnt', data = day)\n",
    "\n",
    "plt.subplot(2,2,3)\n",
    "sns.boxplot(x = 'season', y = 'cnt', data = day)\n",
    "\n",
    "plt.subplot(2,2,4)\n",
    "sns.boxplot(x = 'weathersit', y = 'cnt', data = day)\n",
    "plt.show()"
   ]
  },
  {
   "cell_type": "markdown",
   "metadata": {},
   "source": [
    "From above plots:\n",
    "- 'weekdays' - > mean value appoximately equal throught the week\n"
   ]
  },
  {
   "cell_type": "code",
   "execution_count": 16,
   "metadata": {},
   "outputs": [
    {
     "data": {
      "image/png": "[encoded data removed]",
      "text/plain": [
       "<Figure size 1440x864 with 4 Axes>"
      ]
     },
     "metadata": {
      "needs_background": "light"
     },
     "output_type": "display_data"
    }
   ],
   "source": [
    "plt.figure(figsize=(20, 12))\n",
    "plt.subplot(2,2,1)\n",
    "sns.barplot(x = 'mnth', y = 'cnt',hue = 'yr', data = day)\n",
    "\n",
    "plt.subplot(2,2,2)\n",
    "sns.barplot(x = 'weekday',y = 'cnt',hue = 'yr', data = day)\n",
    "\n",
    "plt.subplot(2,2,3)\n",
    "sns.barplot(x = 'season',y = 'cnt',hue = 'yr', data = day)\n",
    "\n",
    "plt.subplot(2,2,4)\n",
    "sns.barplot(x = 'weathersit', y = 'cnt',hue = 'yr', data = day)\n",
    "plt.show()"
   ]
  },
  {
   "cell_type": "markdown",
   "metadata": {},
   "source": [
    "From above plot :\n",
    "    - Bike renting requirement has increased from 2018 to 2019 .\n",
    "    - so 'yr' is one of the key predictor variable which is also explaind by the heat map"
   ]
  },
  {
   "cell_type": "markdown",
   "metadata": {},
   "source": [
    "#### visualise month based on season, holiday and weather situation"
   ]
  },
  {
   "cell_type": "code",
   "execution_count": 17,
   "metadata": {},
   "outputs": [
    {
     "data": {
      "text/plain": [
       "<function matplotlib.pyplot.show(*args, **kw)>"
      ]
     },
     "execution_count": 17,
     "metadata": {},
     "output_type": "execute_result"
    },
    {
     "data": {
      "image/png": "[encoded data removed]",
      "text/plain": [
       "<Figure size 720x720 with 3 Axes>"
      ]
     },
     "metadata": {
      "needs_background": "light"
     },
     "output_type": "display_data"
    }
   ],
   "source": [
    "# monthwise analysis on season, holiday and weather situation\n",
    "plt.figure(figsize = (10,10))\n",
    "\n",
    "plt.subplot(3,1,1)\n",
    "sns.barplot(x = 'mnth', y = 'cnt',hue = 'holiday', data = day)\n",
    "\n",
    "plt.subplot(3,1,2)\n",
    "sns.barplot(x = 'mnth', y = 'cnt',hue = 'season', data = day)\n",
    "\n",
    "plt.subplot(3,1,3)\n",
    "sns.barplot(x = 'mnth', y = 'cnt',hue = 'weathersit', data = day)\n",
    "plt.show"
   ]
  },
  {
   "cell_type": "markdown",
   "metadata": {},
   "source": [
    "From above plot it is observed that :\n",
    "- number of holidays is highest in July, so the demand is highest .\n",
    "- the weather situation is best(clear sky) in September, so the demand is highest"
   ]
  },
  {
   "cell_type": "code",
   "execution_count": 18,
   "metadata": {},
   "outputs": [
    {
     "data": {
      "text/plain": [
       "<function matplotlib.pyplot.show(*args, **kw)>"
      ]
     },
     "execution_count": 18,
     "metadata": {},
     "output_type": "execute_result"
    },
    {
     "data": {
      "image/png": "[encoded data removed]",
      "text/plain": [
       "<Figure size 432x288 with 1 Axes>"
      ]
     },
     "metadata": {
      "needs_background": "light"
     },
     "output_type": "display_data"
    }
   ],
   "source": [
    "\n",
    "sns.boxplot(x = 'mnth', y = 'atemp', data = day)\n",
    "plt.show\n"
   ]
  },
  {
   "cell_type": "markdown",
   "metadata": {},
   "source": [
    "- Feeling tempeture lowest in January and it affects bike renting ."
   ]
  },
  {
   "cell_type": "markdown",
   "metadata": {},
   "source": [
    "# Step 3: Data Preparation"
   ]
  },
  {
   "cell_type": "markdown",
   "metadata": {},
   "source": [
    "### Dummy Variables:\n",
    "\n",
    "Few categorical columns in the dataframe has category levels , convert those levels into binary form."
   ]
  },
  {
   "cell_type": "code",
   "execution_count": 19,
   "metadata": {},
   "outputs": [],
   "source": [
    "# Create dummy variables\n",
    "# drop_first=True -> drops the first column in ascending order\n",
    "\n",
    "mnth_dummy = pd.get_dummies(day['mnth'],drop_first=True)\n",
    "weathersit_dummy = pd.get_dummies(day['weathersit'],drop_first=True)\n",
    "weekday_dummy = pd.get_dummies(day['weekday'],drop_first=True)\n",
    "season_dummy = pd.get_dummies(day['season'],drop_first=True)"
   ]
  },
  {
   "cell_type": "markdown",
   "metadata": {},
   "source": [
    "Following categorical labels are dropped after performing dummy encoding (drop_first=True) .\n",
    "    These are reduntant,\n",
    "    - 1. April in months\n",
    "    - 2. Clear in weather situation\n",
    "    - 3. Friday in weekdays\n",
    "    - 4. fall in season\n",
    "    "
   ]
  },
  {
   "cell_type": "markdown",
   "metadata": {},
   "source": [
    "Join all the dummy encoded column with the main dataframe . And drop the columns on which we performed dummy encoding."
   ]
  },
  {
   "cell_type": "code",
   "execution_count": 20,
   "metadata": {},
   "outputs": [],
   "source": [
    "# Join all the dfs \n",
    "day = pd.concat ([day ,mnth_dummy,weathersit_dummy,weekday_dummy,season_dummy],axis=1)\n",
    "\n",
    "# drop the categorical variables on which dummy encoding is performed\n",
    "day = day.drop(['mnth','season','weekday','weathersit'],axis=1)"
   ]
  },
  {
   "cell_type": "code",
   "execution_count": 21,
   "metadata": {},
   "outputs": [
    {
     "data": {
      "text/plain": [
       "(730, 29)"
      ]
     },
     "execution_count": 21,
     "metadata": {},
     "output_type": "execute_result"
    }
   ],
   "source": [
    "day.shape"
   ]
  },
  {
   "cell_type": "code",
   "execution_count": 22,
   "metadata": {},
   "outputs": [
    {
     "data": {
      "text/plain": [
       "Index(['yr', 'holiday', 'workingday', 'atemp', 'hum', 'windspeed', 'cnt',\n",
       "       'August', 'December', 'February', 'January', 'July', 'June', 'March',\n",
       "       'May', 'November', 'October', 'September', 'light snow', 'mist',\n",
       "       'monday', 'saturday', 'sunday', 'thursday', 'tuesday', 'wednesday',\n",
       "       'spring', 'summer', 'winter'],\n",
       "      dtype='object')"
      ]
     },
     "execution_count": 22,
     "metadata": {},
     "output_type": "execute_result"
    }
   ],
   "source": [
    "# A check on column names\n",
    "day.columns"
   ]
  },
  {
   "cell_type": "markdown",
   "metadata": {},
   "source": [
    "# Step 4: Splitting the Data into Training and Testing Sets\n",
    "\n",
    "Split the main dataframe into randomly sampled train and test set . split ratio is train:test = 70% : 30% "
   ]
  },
  {
   "cell_type": "code",
   "execution_count": 23,
   "metadata": {},
   "outputs": [],
   "source": [
    "# Train test split\n",
    "df_train, df_test = train_test_split(day, train_size = 0.7, test_size = 0.3, random_state = 100)\n"
   ]
  },
  {
   "cell_type": "markdown",
   "metadata": {},
   "source": [
    "### Rescaling the Features :\n",
    "\n",
    "Variables have different scales , it affects their interpretation . To avoid this problem scaling has to be done .\n",
    "\n",
    "Minmax scaling is used here."
   ]
  },
  {
   "cell_type": "code",
   "execution_count": 24,
   "metadata": {},
   "outputs": [],
   "source": [
    "#create an object\n",
    "\n",
    "scaler = MinMaxScaler()"
   ]
  },
  {
   "cell_type": "code",
   "execution_count": 25,
   "metadata": {},
   "outputs": [],
   "source": [
    "# minmax scaling has to be performed on numeric variables except dummy variables and variables which have only 0 ,1 .\n",
    "\n",
    "num_vars = ['atemp', 'hum', 'windspeed', 'cnt']\n",
    "\n",
    "df_train[num_vars] = scaler.fit_transform(df_train[num_vars])"
   ]
  },
  {
   "cell_type": "code",
   "execution_count": 26,
   "metadata": {},
   "outputs": [
    {
     "data": {
      "text/html": [
       "<div>\n",
       "<style scoped>\n",
       "    .dataframe tbody tr th:only-of-type {\n",
       "        vertical-align: middle;\n",
       "    }\n",
       "\n",
       "    .dataframe tbody tr th {\n",
       "        vertical-align: top;\n",
       "    }\n",
       "\n",
       "    .dataframe thead th {\n",
       "        text-align: right;\n",
       "    }\n",
       "</style>\n",
       "<table border=\"1\" class=\"dataframe\">\n",
       "  <thead>\n",
       "    <tr style=\"text-align: right;\">\n",
       "      <th></th>\n",
       "      <th>yr</th>\n",
       "      <th>holiday</th>\n",
       "      <th>workingday</th>\n",
       "      <th>atemp</th>\n",
       "      <th>hum</th>\n",
       "      <th>windspeed</th>\n",
       "      <th>cnt</th>\n",
       "      <th>August</th>\n",
       "      <th>December</th>\n",
       "      <th>February</th>\n",
       "      <th>...</th>\n",
       "      <th>mist</th>\n",
       "      <th>monday</th>\n",
       "      <th>saturday</th>\n",
       "      <th>sunday</th>\n",
       "      <th>thursday</th>\n",
       "      <th>tuesday</th>\n",
       "      <th>wednesday</th>\n",
       "      <th>spring</th>\n",
       "      <th>summer</th>\n",
       "      <th>winter</th>\n",
       "    </tr>\n",
       "  </thead>\n",
       "  <tbody>\n",
       "    <tr>\n",
       "      <th>count</th>\n",
       "      <td>510.000000</td>\n",
       "      <td>510.000000</td>\n",
       "      <td>510.000000</td>\n",
       "      <td>510.000000</td>\n",
       "      <td>510.000000</td>\n",
       "      <td>510.000000</td>\n",
       "      <td>510.000000</td>\n",
       "      <td>510.000000</td>\n",
       "      <td>510.000000</td>\n",
       "      <td>510.000000</td>\n",
       "      <td>...</td>\n",
       "      <td>510.000000</td>\n",
       "      <td>510.000000</td>\n",
       "      <td>510.000000</td>\n",
       "      <td>510.000000</td>\n",
       "      <td>510.000000</td>\n",
       "      <td>510.000000</td>\n",
       "      <td>510.000000</td>\n",
       "      <td>510.000000</td>\n",
       "      <td>510.000000</td>\n",
       "      <td>510.00000</td>\n",
       "    </tr>\n",
       "    <tr>\n",
       "      <th>mean</th>\n",
       "      <td>0.507843</td>\n",
       "      <td>0.025490</td>\n",
       "      <td>0.676471</td>\n",
       "      <td>0.513097</td>\n",
       "      <td>0.650378</td>\n",
       "      <td>0.320866</td>\n",
       "      <td>0.513620</td>\n",
       "      <td>0.096078</td>\n",
       "      <td>0.084314</td>\n",
       "      <td>0.066667</td>\n",
       "      <td>...</td>\n",
       "      <td>0.343137</td>\n",
       "      <td>0.150980</td>\n",
       "      <td>0.154902</td>\n",
       "      <td>0.143137</td>\n",
       "      <td>0.133333</td>\n",
       "      <td>0.131373</td>\n",
       "      <td>0.158824</td>\n",
       "      <td>0.243137</td>\n",
       "      <td>0.245098</td>\n",
       "      <td>0.24902</td>\n",
       "    </tr>\n",
       "    <tr>\n",
       "      <th>std</th>\n",
       "      <td>0.500429</td>\n",
       "      <td>0.157763</td>\n",
       "      <td>0.468282</td>\n",
       "      <td>0.212394</td>\n",
       "      <td>0.145885</td>\n",
       "      <td>0.169770</td>\n",
       "      <td>0.224593</td>\n",
       "      <td>0.294988</td>\n",
       "      <td>0.278131</td>\n",
       "      <td>0.249689</td>\n",
       "      <td>...</td>\n",
       "      <td>0.475223</td>\n",
       "      <td>0.358381</td>\n",
       "      <td>0.362166</td>\n",
       "      <td>0.350557</td>\n",
       "      <td>0.340268</td>\n",
       "      <td>0.338139</td>\n",
       "      <td>0.365870</td>\n",
       "      <td>0.429398</td>\n",
       "      <td>0.430568</td>\n",
       "      <td>0.43287</td>\n",
       "    </tr>\n",
       "    <tr>\n",
       "      <th>min</th>\n",
       "      <td>0.000000</td>\n",
       "      <td>0.000000</td>\n",
       "      <td>0.000000</td>\n",
       "      <td>0.000000</td>\n",
       "      <td>0.000000</td>\n",
       "      <td>0.000000</td>\n",
       "      <td>0.000000</td>\n",
       "      <td>0.000000</td>\n",
       "      <td>0.000000</td>\n",
       "      <td>0.000000</td>\n",
       "      <td>...</td>\n",
       "      <td>0.000000</td>\n",
       "      <td>0.000000</td>\n",
       "      <td>0.000000</td>\n",
       "      <td>0.000000</td>\n",
       "      <td>0.000000</td>\n",
       "      <td>0.000000</td>\n",
       "      <td>0.000000</td>\n",
       "      <td>0.000000</td>\n",
       "      <td>0.000000</td>\n",
       "      <td>0.00000</td>\n",
       "    </tr>\n",
       "    <tr>\n",
       "      <th>25%</th>\n",
       "      <td>0.000000</td>\n",
       "      <td>0.000000</td>\n",
       "      <td>0.000000</td>\n",
       "      <td>0.332174</td>\n",
       "      <td>0.538644</td>\n",
       "      <td>0.199230</td>\n",
       "      <td>0.356420</td>\n",
       "      <td>0.000000</td>\n",
       "      <td>0.000000</td>\n",
       "      <td>0.000000</td>\n",
       "      <td>...</td>\n",
       "      <td>0.000000</td>\n",
       "      <td>0.000000</td>\n",
       "      <td>0.000000</td>\n",
       "      <td>0.000000</td>\n",
       "      <td>0.000000</td>\n",
       "      <td>0.000000</td>\n",
       "      <td>0.000000</td>\n",
       "      <td>0.000000</td>\n",
       "      <td>0.000000</td>\n",
       "      <td>0.00000</td>\n",
       "    </tr>\n",
       "    <tr>\n",
       "      <th>50%</th>\n",
       "      <td>1.000000</td>\n",
       "      <td>0.000000</td>\n",
       "      <td>1.000000</td>\n",
       "      <td>0.527041</td>\n",
       "      <td>0.653751</td>\n",
       "      <td>0.296760</td>\n",
       "      <td>0.518638</td>\n",
       "      <td>0.000000</td>\n",
       "      <td>0.000000</td>\n",
       "      <td>0.000000</td>\n",
       "      <td>...</td>\n",
       "      <td>0.000000</td>\n",
       "      <td>0.000000</td>\n",
       "      <td>0.000000</td>\n",
       "      <td>0.000000</td>\n",
       "      <td>0.000000</td>\n",
       "      <td>0.000000</td>\n",
       "      <td>0.000000</td>\n",
       "      <td>0.000000</td>\n",
       "      <td>0.000000</td>\n",
       "      <td>0.00000</td>\n",
       "    </tr>\n",
       "    <tr>\n",
       "      <th>75%</th>\n",
       "      <td>1.000000</td>\n",
       "      <td>0.000000</td>\n",
       "      <td>1.000000</td>\n",
       "      <td>0.688632</td>\n",
       "      <td>0.754818</td>\n",
       "      <td>0.414501</td>\n",
       "      <td>0.684710</td>\n",
       "      <td>0.000000</td>\n",
       "      <td>0.000000</td>\n",
       "      <td>0.000000</td>\n",
       "      <td>...</td>\n",
       "      <td>1.000000</td>\n",
       "      <td>0.000000</td>\n",
       "      <td>0.000000</td>\n",
       "      <td>0.000000</td>\n",
       "      <td>0.000000</td>\n",
       "      <td>0.000000</td>\n",
       "      <td>0.000000</td>\n",
       "      <td>0.000000</td>\n",
       "      <td>0.000000</td>\n",
       "      <td>0.00000</td>\n",
       "    </tr>\n",
       "    <tr>\n",
       "      <th>max</th>\n",
       "      <td>1.000000</td>\n",
       "      <td>1.000000</td>\n",
       "      <td>1.000000</td>\n",
       "      <td>1.000000</td>\n",
       "      <td>1.000000</td>\n",
       "      <td>1.000000</td>\n",
       "      <td>1.000000</td>\n",
       "      <td>1.000000</td>\n",
       "      <td>1.000000</td>\n",
       "      <td>1.000000</td>\n",
       "      <td>...</td>\n",
       "      <td>1.000000</td>\n",
       "      <td>1.000000</td>\n",
       "      <td>1.000000</td>\n",
       "      <td>1.000000</td>\n",
       "      <td>1.000000</td>\n",
       "      <td>1.000000</td>\n",
       "      <td>1.000000</td>\n",
       "      <td>1.000000</td>\n",
       "      <td>1.000000</td>\n",
       "      <td>1.00000</td>\n",
       "    </tr>\n",
       "  </tbody>\n",
       "</table>\n",
       "<p>8 rows × 29 columns</p>\n",
       "</div>"
      ],
      "text/plain": [
       "               yr     holiday  workingday       atemp         hum   windspeed  \\\n",
       "count  510.000000  510.000000  510.000000  510.000000  510.000000  510.000000   \n",
       "mean     0.507843    0.025490    0.676471    0.513097    0.650378    0.320866   \n",
       "std      0.500429    0.157763    0.468282    0.212394    0.145885    0.169770   \n",
       "min      0.000000    0.000000    0.000000    0.000000    0.000000    0.000000   \n",
       "25%      0.000000    0.000000    0.000000    0.332174    0.538644    0.199230   \n",
       "50%      1.000000    0.000000    1.000000    0.527041    0.653751    0.296760   \n",
       "75%      1.000000    0.000000    1.000000    0.688632    0.754818    0.414501   \n",
       "max      1.000000    1.000000    1.000000    1.000000    1.000000    1.000000   \n",
       "\n",
       "              cnt      August    December    February  ...        mist  \\\n",
       "count  510.000000  510.000000  510.000000  510.000000  ...  510.000000   \n",
       "mean     0.513620    0.096078    0.084314    0.066667  ...    0.343137   \n",
       "std      0.224593    0.294988    0.278131    0.249689  ...    0.475223   \n",
       "min      0.000000    0.000000    0.000000    0.000000  ...    0.000000   \n",
       "25%      0.356420    0.000000    0.000000    0.000000  ...    0.000000   \n",
       "50%      0.518638    0.000000    0.000000    0.000000  ...    0.000000   \n",
       "75%      0.684710    0.000000    0.000000    0.000000  ...    1.000000   \n",
       "max      1.000000    1.000000    1.000000    1.000000  ...    1.000000   \n",
       "\n",
       "           monday    saturday      sunday    thursday     tuesday   wednesday  \\\n",
       "count  510.000000  510.000000  510.000000  510.000000  510.000000  510.000000   \n",
       "mean     0.150980    0.154902    0.143137    0.133333    0.131373    0.158824   \n",
       "std      0.358381    0.362166    0.350557    0.340268    0.338139    0.365870   \n",
       "min      0.000000    0.000000    0.000000    0.000000    0.000000    0.000000   \n",
       "25%      0.000000    0.000000    0.000000    0.000000    0.000000    0.000000   \n",
       "50%      0.000000    0.000000    0.000000    0.000000    0.000000    0.000000   \n",
       "75%      0.000000    0.000000    0.000000    0.000000    0.000000    0.000000   \n",
       "max      1.000000    1.000000    1.000000    1.000000    1.000000    1.000000   \n",
       "\n",
       "           spring      summer     winter  \n",
       "count  510.000000  510.000000  510.00000  \n",
       "mean     0.243137    0.245098    0.24902  \n",
       "std      0.429398    0.430568    0.43287  \n",
       "min      0.000000    0.000000    0.00000  \n",
       "25%      0.000000    0.000000    0.00000  \n",
       "50%      0.000000    0.000000    0.00000  \n",
       "75%      0.000000    0.000000    0.00000  \n",
       "max      1.000000    1.000000    1.00000  \n",
       "\n",
       "[8 rows x 29 columns]"
      ]
     },
     "execution_count": 26,
     "metadata": {},
     "output_type": "execute_result"
    }
   ],
   "source": [
    "# check min and max values = 0 and 1\n",
    "\n",
    "df_train.describe()"
   ]
  },
  {
   "cell_type": "markdown",
   "metadata": {},
   "source": [
    "### Dividing into X and Y sets for the model building\n",
    "\n",
    "- 'cnt'=y_train  -> target variable .\n",
    "- X_train -> whole train dataframe except target variable\n"
   ]
  },
  {
   "cell_type": "code",
   "execution_count": 27,
   "metadata": {},
   "outputs": [],
   "source": [
    "# create X_train , y_train\n",
    "y_train = df_train.pop('cnt')\n",
    "X_train = df_train"
   ]
  },
  {
   "cell_type": "markdown",
   "metadata": {},
   "source": [
    "# Step 5: Building a multiple linear regression model\n",
    "\n",
    "In this assignment automated feature selection method 'RFE 'is used along with manual fine tuning . \n",
    "\n",
    "- RFE - to select top 13 predictors\n",
    "- manual analysis - to get top predictors\n",
    "\n",
    "### RFE\n",
    "Recursive feature elimination"
   ]
  },
  {
   "cell_type": "code",
   "execution_count": 28,
   "metadata": {},
   "outputs": [],
   "source": [
    "# create LinearRegression object\n",
    "lm = LinearRegression()\n",
    "\n",
    "# Fit the train model\n",
    "lm.fit(X_train, y_train)\n",
    "\n",
    "# perform RFE on top 13 features \n",
    "rfe = RFE(lm, 13)             \n",
    "rfe = rfe.fit(X_train, y_train)"
   ]
  },
  {
   "cell_type": "code",
   "execution_count": 29,
   "metadata": {},
   "outputs": [
    {
     "data": {
      "text/plain": [
       "[('yr', True, 1),\n",
       " ('holiday', True, 1),\n",
       " ('workingday', False, 4),\n",
       " ('atemp', True, 1),\n",
       " ('hum', True, 1),\n",
       " ('windspeed', True, 1),\n",
       " ('August', False, 8),\n",
       " ('December', False, 2),\n",
       " ('February', False, 5),\n",
       " ('January', True, 1),\n",
       " ('July', True, 1),\n",
       " ('June', False, 9),\n",
       " ('March', False, 16),\n",
       " ('May', False, 6),\n",
       " ('November', True, 1),\n",
       " ('October', False, 14),\n",
       " ('September', True, 1),\n",
       " ('light snow', True, 1),\n",
       " ('mist', True, 1),\n",
       " ('monday', False, 11),\n",
       " ('saturday', False, 3),\n",
       " ('sunday', False, 10),\n",
       " ('thursday', False, 13),\n",
       " ('tuesday', False, 12),\n",
       " ('wednesday', False, 15),\n",
       " ('spring', True, 1),\n",
       " ('summer', False, 7),\n",
       " ('winter', True, 1)]"
      ]
     },
     "execution_count": 29,
     "metadata": {},
     "output_type": "execute_result"
    }
   ],
   "source": [
    "# Display predictor variables based on the rank and \n",
    "\n",
    "list(zip(X_train.columns,rfe.support_,rfe.ranking_))"
   ]
  },
  {
   "cell_type": "code",
   "execution_count": 30,
   "metadata": {},
   "outputs": [],
   "source": [
    "# Collect predictor variables which are selected by RFE \n",
    "col = X_train.columns[rfe.support_]"
   ]
  },
  {
   "cell_type": "markdown",
   "metadata": {},
   "source": [
    "### Analysis 1 :  top 13 predictors"
   ]
  },
  {
   "cell_type": "markdown",
   "metadata": {},
   "source": [
    "- Create 'X_train_13' dataframe to store top 13 predictor variables which are found by RFE . \n",
    "- Build the model and perform manual analysis by comparing R2 , p-value and adjusted r2 to get Top predictor variables ."
   ]
  },
  {
   "cell_type": "code",
   "execution_count": 31,
   "metadata": {},
   "outputs": [
    {
     "data": {
      "text/plain": [
       "(510, 13)"
      ]
     },
     "execution_count": 31,
     "metadata": {},
     "output_type": "execute_result"
    }
   ],
   "source": [
    "# Creating X_train_13 dataframe with RFE selected predictor variables\n",
    "X_train_13 = X_train[col]\n",
    "X_train_13.shape"
   ]
  },
  {
   "cell_type": "markdown",
   "metadata": {},
   "source": [
    "- add constant to the dataframe 'X_train_13' to get an interceptor and create 'X_train_rfe'dataframe and build the model\n",
    "- use data frame 'X_train_rfe' to perform manual analysis ."
   ]
  },
  {
   "cell_type": "code",
   "execution_count": 32,
   "metadata": {},
   "outputs": [],
   "source": [
    "# add a constant to get an interceptor\n",
    "X_train_rfe = sm.add_constant(X_train_13)\n",
    "\n",
    "# Fit the resgression line using 'OLS'\n",
    "lm = sm.OLS(y_train,X_train_rfe).fit() "
   ]
  },
  {
   "cell_type": "code",
   "execution_count": 33,
   "metadata": {},
   "outputs": [
    {
     "data": {
      "text/html": [
       "<table class=\"simpletable\">\n",
       "<caption>OLS Regression Results</caption>\n",
       "<tr>\n",
       "  <th>Dep. Variable:</th>           <td>cnt</td>       <th>  R-squared:         </th> <td>   0.839</td> \n",
       "</tr>\n",
       "<tr>\n",
       "  <th>Model:</th>                   <td>OLS</td>       <th>  Adj. R-squared:    </th> <td>   0.834</td> \n",
       "</tr>\n",
       "<tr>\n",
       "  <th>Method:</th>             <td>Least Squares</td>  <th>  F-statistic:       </th> <td>   198.3</td> \n",
       "</tr>\n",
       "<tr>\n",
       "  <th>Date:</th>             <td>Mon, 05 Oct 2020</td> <th>  Prob (F-statistic):</th> <td>7.19e-187</td>\n",
       "</tr>\n",
       "<tr>\n",
       "  <th>Time:</th>                 <td>12:09:00</td>     <th>  Log-Likelihood:    </th> <td>  503.66</td> \n",
       "</tr>\n",
       "<tr>\n",
       "  <th>No. Observations:</th>      <td>   510</td>      <th>  AIC:               </th> <td>  -979.3</td> \n",
       "</tr>\n",
       "<tr>\n",
       "  <th>Df Residuals:</th>          <td>   496</td>      <th>  BIC:               </th> <td>  -920.0</td> \n",
       "</tr>\n",
       "<tr>\n",
       "  <th>Df Model:</th>              <td>    13</td>      <th>                     </th>     <td> </td>    \n",
       "</tr>\n",
       "<tr>\n",
       "  <th>Covariance Type:</th>      <td>nonrobust</td>    <th>                     </th>     <td> </td>    \n",
       "</tr>\n",
       "</table>\n",
       "<table class=\"simpletable\">\n",
       "<tr>\n",
       "       <td></td>         <th>coef</th>     <th>std err</th>      <th>t</th>      <th>P>|t|</th>  <th>[0.025</th>    <th>0.975]</th>  \n",
       "</tr>\n",
       "<tr>\n",
       "  <th>const</th>      <td>    0.3567</td> <td>    0.032</td> <td>   11.215</td> <td> 0.000</td> <td>    0.294</td> <td>    0.419</td>\n",
       "</tr>\n",
       "<tr>\n",
       "  <th>yr</th>         <td>    0.2321</td> <td>    0.008</td> <td>   28.212</td> <td> 0.000</td> <td>    0.216</td> <td>    0.248</td>\n",
       "</tr>\n",
       "<tr>\n",
       "  <th>holiday</th>    <td>   -0.0880</td> <td>    0.026</td> <td>   -3.374</td> <td> 0.001</td> <td>   -0.139</td> <td>   -0.037</td>\n",
       "</tr>\n",
       "<tr>\n",
       "  <th>atemp</th>      <td>    0.4727</td> <td>    0.034</td> <td>   13.970</td> <td> 0.000</td> <td>    0.406</td> <td>    0.539</td>\n",
       "</tr>\n",
       "<tr>\n",
       "  <th>hum</th>        <td>   -0.1596</td> <td>    0.038</td> <td>   -4.173</td> <td> 0.000</td> <td>   -0.235</td> <td>   -0.084</td>\n",
       "</tr>\n",
       "<tr>\n",
       "  <th>windspeed</th>  <td>   -0.1615</td> <td>    0.026</td> <td>   -6.179</td> <td> 0.000</td> <td>   -0.213</td> <td>   -0.110</td>\n",
       "</tr>\n",
       "<tr>\n",
       "  <th>January</th>    <td>   -0.0393</td> <td>    0.018</td> <td>   -2.205</td> <td> 0.028</td> <td>   -0.074</td> <td>   -0.004</td>\n",
       "</tr>\n",
       "<tr>\n",
       "  <th>July</th>       <td>   -0.0714</td> <td>    0.017</td> <td>   -4.124</td> <td> 0.000</td> <td>   -0.105</td> <td>   -0.037</td>\n",
       "</tr>\n",
       "<tr>\n",
       "  <th>November</th>   <td>   -0.0315</td> <td>    0.017</td> <td>   -1.805</td> <td> 0.072</td> <td>   -0.066</td> <td>    0.003</td>\n",
       "</tr>\n",
       "<tr>\n",
       "  <th>September</th>  <td>    0.0621</td> <td>    0.016</td> <td>    3.955</td> <td> 0.000</td> <td>    0.031</td> <td>    0.093</td>\n",
       "</tr>\n",
       "<tr>\n",
       "  <th>light snow</th> <td>   -0.2414</td> <td>    0.027</td> <td>   -9.023</td> <td> 0.000</td> <td>   -0.294</td> <td>   -0.189</td>\n",
       "</tr>\n",
       "<tr>\n",
       "  <th>mist</th>       <td>   -0.0558</td> <td>    0.011</td> <td>   -5.242</td> <td> 0.000</td> <td>   -0.077</td> <td>   -0.035</td>\n",
       "</tr>\n",
       "<tr>\n",
       "  <th>spring</th>     <td>   -0.1076</td> <td>    0.015</td> <td>   -6.958</td> <td> 0.000</td> <td>   -0.138</td> <td>   -0.077</td>\n",
       "</tr>\n",
       "<tr>\n",
       "  <th>winter</th>     <td>    0.0543</td> <td>    0.013</td> <td>    4.043</td> <td> 0.000</td> <td>    0.028</td> <td>    0.081</td>\n",
       "</tr>\n",
       "</table>\n",
       "<table class=\"simpletable\">\n",
       "<tr>\n",
       "  <th>Omnibus:</th>       <td>59.911</td> <th>  Durbin-Watson:     </th> <td>   2.014</td>\n",
       "</tr>\n",
       "<tr>\n",
       "  <th>Prob(Omnibus):</th> <td> 0.000</td> <th>  Jarque-Bera (JB):  </th> <td> 155.221</td>\n",
       "</tr>\n",
       "<tr>\n",
       "  <th>Skew:</th>          <td>-0.592</td> <th>  Prob(JB):          </th> <td>1.97e-34</td>\n",
       "</tr>\n",
       "<tr>\n",
       "  <th>Kurtosis:</th>      <td> 5.429</td> <th>  Cond. No.          </th> <td>    18.5</td>\n",
       "</tr>\n",
       "</table><br/><br/>Warnings:<br/>[1] Standard Errors assume that the covariance matrix of the errors is correctly specified."
      ],
      "text/plain": [
       "<class 'statsmodels.iolib.summary.Summary'>\n",
       "\"\"\"\n",
       "                            OLS Regression Results                            \n",
       "==============================================================================\n",
       "Dep. Variable:                    cnt   R-squared:                       0.839\n",
       "Model:                            OLS   Adj. R-squared:                  0.834\n",
       "Method:                 Least Squares   F-statistic:                     198.3\n",
       "Date:                Mon, 05 Oct 2020   Prob (F-statistic):          7.19e-187\n",
       "Time:                        12:09:00   Log-Likelihood:                 503.66\n",
       "No. Observations:                 510   AIC:                            -979.3\n",
       "Df Residuals:                     496   BIC:                            -920.0\n",
       "Df Model:                          13                                         \n",
       "Covariance Type:            nonrobust                                         \n",
       "==============================================================================\n",
       "                 coef    std err          t      P>|t|      [0.025      0.975]\n",
       "------------------------------------------------------------------------------\n",
       "const          0.3567      0.032     11.215      0.000       0.294       0.419\n",
       "yr             0.2321      0.008     28.212      0.000       0.216       0.248\n",
       "holiday       -0.0880      0.026     -3.374      0.001      -0.139      -0.037\n",
       "atemp          0.4727      0.034     13.970      0.000       0.406       0.539\n",
       "hum           -0.1596      0.038     -4.173      0.000      -0.235      -0.084\n",
       "windspeed     -0.1615      0.026     -6.179      0.000      -0.213      -0.110\n",
       "January       -0.0393      0.018     -2.205      0.028      -0.074      -0.004\n",
       "July          -0.0714      0.017     -4.124      0.000      -0.105      -0.037\n",
       "November      -0.0315      0.017     -1.805      0.072      -0.066       0.003\n",
       "September      0.0621      0.016      3.955      0.000       0.031       0.093\n",
       "light snow    -0.2414      0.027     -9.023      0.000      -0.294      -0.189\n",
       "mist          -0.0558      0.011     -5.242      0.000      -0.077      -0.035\n",
       "spring        -0.1076      0.015     -6.958      0.000      -0.138      -0.077\n",
       "winter         0.0543      0.013      4.043      0.000       0.028       0.081\n",
       "==============================================================================\n",
       "Omnibus:                       59.911   Durbin-Watson:                   2.014\n",
       "Prob(Omnibus):                  0.000   Jarque-Bera (JB):              155.221\n",
       "Skew:                          -0.592   Prob(JB):                     1.97e-34\n",
       "Kurtosis:                       5.429   Cond. No.                         18.5\n",
       "==============================================================================\n",
       "\n",
       "Warnings:\n",
       "[1] Standard Errors assume that the covariance matrix of the errors is correctly specified.\n",
       "\"\"\""
      ]
     },
     "execution_count": 33,
     "metadata": {},
     "output_type": "execute_result"
    }
   ],
   "source": [
    "# statistical summary of MLR model\n",
    "lm.summary()"
   ]
  },
  {
   "cell_type": "markdown",
   "metadata": {},
   "source": [
    "#### Check VIF:\n",
    "\n",
    "- Drop 'const' before finding VIF ."
   ]
  },
  {
   "cell_type": "code",
   "execution_count": 34,
   "metadata": {},
   "outputs": [
    {
     "data": {
      "text/html": [
       "<div>\n",
       "<style scoped>\n",
       "    .dataframe tbody tr th:only-of-type {\n",
       "        vertical-align: middle;\n",
       "    }\n",
       "\n",
       "    .dataframe tbody tr th {\n",
       "        vertical-align: top;\n",
       "    }\n",
       "\n",
       "    .dataframe thead th {\n",
       "        text-align: right;\n",
       "    }\n",
       "</style>\n",
       "<table border=\"1\" class=\"dataframe\">\n",
       "  <thead>\n",
       "    <tr style=\"text-align: right;\">\n",
       "      <th></th>\n",
       "      <th>Features</th>\n",
       "      <th>VIF</th>\n",
       "    </tr>\n",
       "  </thead>\n",
       "  <tbody>\n",
       "    <tr>\n",
       "      <th>3</th>\n",
       "      <td>hum</td>\n",
       "      <td>23.77</td>\n",
       "    </tr>\n",
       "    <tr>\n",
       "      <th>2</th>\n",
       "      <td>atemp</td>\n",
       "      <td>16.01</td>\n",
       "    </tr>\n",
       "    <tr>\n",
       "      <th>4</th>\n",
       "      <td>windspeed</td>\n",
       "      <td>4.00</td>\n",
       "    </tr>\n",
       "    <tr>\n",
       "      <th>11</th>\n",
       "      <td>spring</td>\n",
       "      <td>2.86</td>\n",
       "    </tr>\n",
       "    <tr>\n",
       "      <th>12</th>\n",
       "      <td>winter</td>\n",
       "      <td>2.53</td>\n",
       "    </tr>\n",
       "    <tr>\n",
       "      <th>10</th>\n",
       "      <td>mist</td>\n",
       "      <td>2.24</td>\n",
       "    </tr>\n",
       "    <tr>\n",
       "      <th>0</th>\n",
       "      <td>yr</td>\n",
       "      <td>2.06</td>\n",
       "    </tr>\n",
       "    <tr>\n",
       "      <th>5</th>\n",
       "      <td>January</td>\n",
       "      <td>1.67</td>\n",
       "    </tr>\n",
       "    <tr>\n",
       "      <th>7</th>\n",
       "      <td>November</td>\n",
       "      <td>1.59</td>\n",
       "    </tr>\n",
       "    <tr>\n",
       "      <th>6</th>\n",
       "      <td>July</td>\n",
       "      <td>1.40</td>\n",
       "    </tr>\n",
       "    <tr>\n",
       "      <th>9</th>\n",
       "      <td>light snow</td>\n",
       "      <td>1.23</td>\n",
       "    </tr>\n",
       "    <tr>\n",
       "      <th>8</th>\n",
       "      <td>September</td>\n",
       "      <td>1.21</td>\n",
       "    </tr>\n",
       "    <tr>\n",
       "      <th>1</th>\n",
       "      <td>holiday</td>\n",
       "      <td>1.06</td>\n",
       "    </tr>\n",
       "  </tbody>\n",
       "</table>\n",
       "</div>"
      ],
      "text/plain": [
       "      Features    VIF\n",
       "3          hum  23.77\n",
       "2        atemp  16.01\n",
       "4    windspeed   4.00\n",
       "11      spring   2.86\n",
       "12      winter   2.53\n",
       "10        mist   2.24\n",
       "0           yr   2.06\n",
       "5      January   1.67\n",
       "7     November   1.59\n",
       "6         July   1.40\n",
       "9   light snow   1.23\n",
       "8    September   1.21\n",
       "1      holiday   1.06"
      ]
     },
     "execution_count": 34,
     "metadata": {},
     "output_type": "execute_result"
    }
   ],
   "source": [
    "# Drop 'const'\n",
    "X_train_rfe = X_train_rfe.drop(['const'], axis=1)\n",
    "\n",
    "# find VIF\n",
    "vif = pd.DataFrame()\n",
    "X = X_train_rfe\n",
    "vif['Features'] = X.columns\n",
    "vif['VIF'] = [variance_inflation_factor(X.values, i) for i in range(X.shape[1])]\n",
    "vif['VIF'] = round(vif['VIF'], 2)\n",
    "vif = vif.sort_values(by = \"VIF\", ascending = False)\n",
    "vif"
   ]
  },
  {
   "cell_type": "markdown",
   "metadata": {},
   "source": [
    "From above model :\n",
    "- 'November' has p-value > 0.05\n",
    "- 'hum'and 'atemp' have VIF > 5\n",
    "- Drop variable which has p-value > 0.05 first . This will change vif ."
   ]
  },
  {
   "cell_type": "markdown",
   "metadata": {},
   "source": [
    "# Analysis 2 :\n",
    "\n",
    "- Drop 'November' and build the model\n"
   ]
  },
  {
   "cell_type": "code",
   "execution_count": 35,
   "metadata": {},
   "outputs": [
    {
     "data": {
      "text/plain": [
       "(510, 12)"
      ]
     },
     "execution_count": 35,
     "metadata": {},
     "output_type": "execute_result"
    }
   ],
   "source": [
    "# drop 'saturday'\n",
    "X_train_rfe = X_train_rfe.drop(['November'], axis=1)\n",
    "X_train_rfe.shape"
   ]
  },
  {
   "cell_type": "code",
   "execution_count": 36,
   "metadata": {},
   "outputs": [],
   "source": [
    "#Add constant\n",
    "X_train_rfe = sm.add_constant(X_train_rfe)\n",
    "\n",
    "# Build model\n",
    "lm = sm.OLS(y_train,X_train_rfe).fit()  "
   ]
  },
  {
   "cell_type": "code",
   "execution_count": 37,
   "metadata": {},
   "outputs": [
    {
     "data": {
      "text/html": [
       "<table class=\"simpletable\">\n",
       "<caption>OLS Regression Results</caption>\n",
       "<tr>\n",
       "  <th>Dep. Variable:</th>           <td>cnt</td>       <th>  R-squared:         </th> <td>   0.838</td> \n",
       "</tr>\n",
       "<tr>\n",
       "  <th>Model:</th>                   <td>OLS</td>       <th>  Adj. R-squared:    </th> <td>   0.834</td> \n",
       "</tr>\n",
       "<tr>\n",
       "  <th>Method:</th>             <td>Least Squares</td>  <th>  F-statistic:       </th> <td>   213.6</td> \n",
       "</tr>\n",
       "<tr>\n",
       "  <th>Date:</th>             <td>Mon, 05 Oct 2020</td> <th>  Prob (F-statistic):</th> <td>2.43e-187</td>\n",
       "</tr>\n",
       "<tr>\n",
       "  <th>Time:</th>                 <td>12:09:01</td>     <th>  Log-Likelihood:    </th> <td>  501.99</td> \n",
       "</tr>\n",
       "<tr>\n",
       "  <th>No. Observations:</th>      <td>   510</td>      <th>  AIC:               </th> <td>  -978.0</td> \n",
       "</tr>\n",
       "<tr>\n",
       "  <th>Df Residuals:</th>          <td>   497</td>      <th>  BIC:               </th> <td>  -922.9</td> \n",
       "</tr>\n",
       "<tr>\n",
       "  <th>Df Model:</th>              <td>    12</td>      <th>                     </th>     <td> </td>    \n",
       "</tr>\n",
       "<tr>\n",
       "  <th>Covariance Type:</th>      <td>nonrobust</td>    <th>                     </th>     <td> </td>    \n",
       "</tr>\n",
       "</table>\n",
       "<table class=\"simpletable\">\n",
       "<tr>\n",
       "       <td></td>         <th>coef</th>     <th>std err</th>      <th>t</th>      <th>P>|t|</th>  <th>[0.025</th>    <th>0.975]</th>  \n",
       "</tr>\n",
       "<tr>\n",
       "  <th>const</th>      <td>    0.3507</td> <td>    0.032</td> <td>   11.062</td> <td> 0.000</td> <td>    0.288</td> <td>    0.413</td>\n",
       "</tr>\n",
       "<tr>\n",
       "  <th>yr</th>         <td>    0.2321</td> <td>    0.008</td> <td>   28.151</td> <td> 0.000</td> <td>    0.216</td> <td>    0.248</td>\n",
       "</tr>\n",
       "<tr>\n",
       "  <th>holiday</th>    <td>   -0.0937</td> <td>    0.026</td> <td>   -3.612</td> <td> 0.000</td> <td>   -0.145</td> <td>   -0.043</td>\n",
       "</tr>\n",
       "<tr>\n",
       "  <th>atemp</th>      <td>    0.4793</td> <td>    0.034</td> <td>   14.218</td> <td> 0.000</td> <td>    0.413</td> <td>    0.546</td>\n",
       "</tr>\n",
       "<tr>\n",
       "  <th>hum</th>        <td>   -0.1568</td> <td>    0.038</td> <td>   -4.094</td> <td> 0.000</td> <td>   -0.232</td> <td>   -0.082</td>\n",
       "</tr>\n",
       "<tr>\n",
       "  <th>windspeed</th>  <td>   -0.1628</td> <td>    0.026</td> <td>   -6.216</td> <td> 0.000</td> <td>   -0.214</td> <td>   -0.111</td>\n",
       "</tr>\n",
       "<tr>\n",
       "  <th>January</th>    <td>   -0.0386</td> <td>    0.018</td> <td>   -2.162</td> <td> 0.031</td> <td>   -0.074</td> <td>   -0.004</td>\n",
       "</tr>\n",
       "<tr>\n",
       "  <th>July</th>       <td>   -0.0724</td> <td>    0.017</td> <td>   -4.168</td> <td> 0.000</td> <td>   -0.106</td> <td>   -0.038</td>\n",
       "</tr>\n",
       "<tr>\n",
       "  <th>September</th>  <td>    0.0642</td> <td>    0.016</td> <td>    4.090</td> <td> 0.000</td> <td>    0.033</td> <td>    0.095</td>\n",
       "</tr>\n",
       "<tr>\n",
       "  <th>light snow</th> <td>   -0.2401</td> <td>    0.027</td> <td>   -8.957</td> <td> 0.000</td> <td>   -0.293</td> <td>   -0.187</td>\n",
       "</tr>\n",
       "<tr>\n",
       "  <th>mist</th>       <td>   -0.0557</td> <td>    0.011</td> <td>   -5.217</td> <td> 0.000</td> <td>   -0.077</td> <td>   -0.035</td>\n",
       "</tr>\n",
       "<tr>\n",
       "  <th>spring</th>     <td>   -0.1048</td> <td>    0.015</td> <td>   -6.797</td> <td> 0.000</td> <td>   -0.135</td> <td>   -0.075</td>\n",
       "</tr>\n",
       "<tr>\n",
       "  <th>winter</th>     <td>    0.0448</td> <td>    0.012</td> <td>    3.618</td> <td> 0.000</td> <td>    0.020</td> <td>    0.069</td>\n",
       "</tr>\n",
       "</table>\n",
       "<table class=\"simpletable\">\n",
       "<tr>\n",
       "  <th>Omnibus:</th>       <td>56.992</td> <th>  Durbin-Watson:     </th> <td>   2.023</td>\n",
       "</tr>\n",
       "<tr>\n",
       "  <th>Prob(Omnibus):</th> <td> 0.000</td> <th>  Jarque-Bera (JB):  </th> <td> 145.434</td>\n",
       "</tr>\n",
       "<tr>\n",
       "  <th>Skew:</th>          <td>-0.568</td> <th>  Prob(JB):          </th> <td>2.63e-32</td>\n",
       "</tr>\n",
       "<tr>\n",
       "  <th>Kurtosis:</th>      <td> 5.356</td> <th>  Cond. No.          </th> <td>    18.4</td>\n",
       "</tr>\n",
       "</table><br/><br/>Warnings:<br/>[1] Standard Errors assume that the covariance matrix of the errors is correctly specified."
      ],
      "text/plain": [
       "<class 'statsmodels.iolib.summary.Summary'>\n",
       "\"\"\"\n",
       "                            OLS Regression Results                            \n",
       "==============================================================================\n",
       "Dep. Variable:                    cnt   R-squared:                       0.838\n",
       "Model:                            OLS   Adj. R-squared:                  0.834\n",
       "Method:                 Least Squares   F-statistic:                     213.6\n",
       "Date:                Mon, 05 Oct 2020   Prob (F-statistic):          2.43e-187\n",
       "Time:                        12:09:01   Log-Likelihood:                 501.99\n",
       "No. Observations:                 510   AIC:                            -978.0\n",
       "Df Residuals:                     497   BIC:                            -922.9\n",
       "Df Model:                          12                                         \n",
       "Covariance Type:            nonrobust                                         \n",
       "==============================================================================\n",
       "                 coef    std err          t      P>|t|      [0.025      0.975]\n",
       "------------------------------------------------------------------------------\n",
       "const          0.3507      0.032     11.062      0.000       0.288       0.413\n",
       "yr             0.2321      0.008     28.151      0.000       0.216       0.248\n",
       "holiday       -0.0937      0.026     -3.612      0.000      -0.145      -0.043\n",
       "atemp          0.4793      0.034     14.218      0.000       0.413       0.546\n",
       "hum           -0.1568      0.038     -4.094      0.000      -0.232      -0.082\n",
       "windspeed     -0.1628      0.026     -6.216      0.000      -0.214      -0.111\n",
       "January       -0.0386      0.018     -2.162      0.031      -0.074      -0.004\n",
       "July          -0.0724      0.017     -4.168      0.000      -0.106      -0.038\n",
       "September      0.0642      0.016      4.090      0.000       0.033       0.095\n",
       "light snow    -0.2401      0.027     -8.957      0.000      -0.293      -0.187\n",
       "mist          -0.0557      0.011     -5.217      0.000      -0.077      -0.035\n",
       "spring        -0.1048      0.015     -6.797      0.000      -0.135      -0.075\n",
       "winter         0.0448      0.012      3.618      0.000       0.020       0.069\n",
       "==============================================================================\n",
       "Omnibus:                       56.992   Durbin-Watson:                   2.023\n",
       "Prob(Omnibus):                  0.000   Jarque-Bera (JB):              145.434\n",
       "Skew:                          -0.568   Prob(JB):                     2.63e-32\n",
       "Kurtosis:                       5.356   Cond. No.                         18.4\n",
       "==============================================================================\n",
       "\n",
       "Warnings:\n",
       "[1] Standard Errors assume that the covariance matrix of the errors is correctly specified.\n",
       "\"\"\""
      ]
     },
     "execution_count": 37,
     "metadata": {},
     "output_type": "execute_result"
    }
   ],
   "source": [
    "# statistical summary of MLR model\n",
    "lm.summary()"
   ]
  },
  {
   "cell_type": "code",
   "execution_count": 38,
   "metadata": {},
   "outputs": [
    {
     "data": {
      "text/html": [
       "<div>\n",
       "<style scoped>\n",
       "    .dataframe tbody tr th:only-of-type {\n",
       "        vertical-align: middle;\n",
       "    }\n",
       "\n",
       "    .dataframe tbody tr th {\n",
       "        vertical-align: top;\n",
       "    }\n",
       "\n",
       "    .dataframe thead th {\n",
       "        text-align: right;\n",
       "    }\n",
       "</style>\n",
       "<table border=\"1\" class=\"dataframe\">\n",
       "  <thead>\n",
       "    <tr style=\"text-align: right;\">\n",
       "      <th></th>\n",
       "      <th>Features</th>\n",
       "      <th>VIF</th>\n",
       "    </tr>\n",
       "  </thead>\n",
       "  <tbody>\n",
       "    <tr>\n",
       "      <th>3</th>\n",
       "      <td>hum</td>\n",
       "      <td>23.75</td>\n",
       "    </tr>\n",
       "    <tr>\n",
       "      <th>2</th>\n",
       "      <td>atemp</td>\n",
       "      <td>15.94</td>\n",
       "    </tr>\n",
       "    <tr>\n",
       "      <th>4</th>\n",
       "      <td>windspeed</td>\n",
       "      <td>3.96</td>\n",
       "    </tr>\n",
       "    <tr>\n",
       "      <th>10</th>\n",
       "      <td>spring</td>\n",
       "      <td>2.85</td>\n",
       "    </tr>\n",
       "    <tr>\n",
       "      <th>9</th>\n",
       "      <td>mist</td>\n",
       "      <td>2.24</td>\n",
       "    </tr>\n",
       "    <tr>\n",
       "      <th>0</th>\n",
       "      <td>yr</td>\n",
       "      <td>2.06</td>\n",
       "    </tr>\n",
       "    <tr>\n",
       "      <th>11</th>\n",
       "      <td>winter</td>\n",
       "      <td>2.05</td>\n",
       "    </tr>\n",
       "    <tr>\n",
       "      <th>5</th>\n",
       "      <td>January</td>\n",
       "      <td>1.67</td>\n",
       "    </tr>\n",
       "    <tr>\n",
       "      <th>6</th>\n",
       "      <td>July</td>\n",
       "      <td>1.40</td>\n",
       "    </tr>\n",
       "    <tr>\n",
       "      <th>8</th>\n",
       "      <td>light snow</td>\n",
       "      <td>1.22</td>\n",
       "    </tr>\n",
       "    <tr>\n",
       "      <th>7</th>\n",
       "      <td>September</td>\n",
       "      <td>1.20</td>\n",
       "    </tr>\n",
       "    <tr>\n",
       "      <th>1</th>\n",
       "      <td>holiday</td>\n",
       "      <td>1.04</td>\n",
       "    </tr>\n",
       "  </tbody>\n",
       "</table>\n",
       "</div>"
      ],
      "text/plain": [
       "      Features    VIF\n",
       "3          hum  23.75\n",
       "2        atemp  15.94\n",
       "4    windspeed   3.96\n",
       "10      spring   2.85\n",
       "9         mist   2.24\n",
       "0           yr   2.06\n",
       "11      winter   2.05\n",
       "5      January   1.67\n",
       "6         July   1.40\n",
       "8   light snow   1.22\n",
       "7    September   1.20\n",
       "1      holiday   1.04"
      ]
     },
     "execution_count": 38,
     "metadata": {},
     "output_type": "execute_result"
    }
   ],
   "source": [
    "# Remove constant term\n",
    "X_train_rfe = X_train_rfe.drop(['const'], axis=1)\n",
    "\n",
    "#to find vif\n",
    "vif = pd.DataFrame()\n",
    "X = X_train_rfe\n",
    "vif['Features'] = X.columns\n",
    "vif['VIF'] = [variance_inflation_factor(X.values, i) for i in range(X.shape[1])]\n",
    "vif['VIF'] = round(vif['VIF'], 2)\n",
    "vif = vif.sort_values(by = \"VIF\", ascending = False)\n",
    "vif"
   ]
  },
  {
   "cell_type": "markdown",
   "metadata": {},
   "source": [
    "From above model :\n",
    "- all the predictor variables have p value < 0.05\n",
    "- but vif of 'hum' >5\n",
    "- so, drop 'hum' and rebuild the model"
   ]
  },
  {
   "cell_type": "markdown",
   "metadata": {},
   "source": [
    "# Analysis 3 :\n",
    "\n",
    "- Drop 'hum' and build MLR model."
   ]
  },
  {
   "cell_type": "code",
   "execution_count": 39,
   "metadata": {},
   "outputs": [
    {
     "data": {
      "text/plain": [
       "(510, 11)"
      ]
     },
     "execution_count": 39,
     "metadata": {},
     "output_type": "execute_result"
    }
   ],
   "source": [
    "# Drop 'hum'\n",
    "X_train_rfe = X_train_rfe.drop(['hum'], axis=1)\n",
    "X_train_rfe.shape"
   ]
  },
  {
   "cell_type": "code",
   "execution_count": 40,
   "metadata": {},
   "outputs": [],
   "source": [
    "# Add constant\n",
    "X_train_rfe = sm.add_constant(X_train_rfe)\n",
    "\n",
    "# Build model\n",
    "lm = sm.OLS(y_train,X_train_rfe).fit()  "
   ]
  },
  {
   "cell_type": "code",
   "execution_count": 41,
   "metadata": {},
   "outputs": [
    {
     "data": {
      "text/html": [
       "<table class=\"simpletable\">\n",
       "<caption>OLS Regression Results</caption>\n",
       "<tr>\n",
       "  <th>Dep. Variable:</th>           <td>cnt</td>       <th>  R-squared:         </th> <td>   0.832</td> \n",
       "</tr>\n",
       "<tr>\n",
       "  <th>Model:</th>                   <td>OLS</td>       <th>  Adj. R-squared:    </th> <td>   0.828</td> \n",
       "</tr>\n",
       "<tr>\n",
       "  <th>Method:</th>             <td>Least Squares</td>  <th>  F-statistic:       </th> <td>   224.4</td> \n",
       "</tr>\n",
       "<tr>\n",
       "  <th>Date:</th>             <td>Mon, 05 Oct 2020</td> <th>  Prob (F-statistic):</th> <td>5.82e-185</td>\n",
       "</tr>\n",
       "<tr>\n",
       "  <th>Time:</th>                 <td>12:09:02</td>     <th>  Log-Likelihood:    </th> <td>  493.53</td> \n",
       "</tr>\n",
       "<tr>\n",
       "  <th>No. Observations:</th>      <td>   510</td>      <th>  AIC:               </th> <td>  -963.1</td> \n",
       "</tr>\n",
       "<tr>\n",
       "  <th>Df Residuals:</th>          <td>   498</td>      <th>  BIC:               </th> <td>  -912.2</td> \n",
       "</tr>\n",
       "<tr>\n",
       "  <th>Df Model:</th>              <td>    11</td>      <th>                     </th>     <td> </td>    \n",
       "</tr>\n",
       "<tr>\n",
       "  <th>Covariance Type:</th>      <td>nonrobust</td>    <th>                     </th>     <td> </td>    \n",
       "</tr>\n",
       "</table>\n",
       "<table class=\"simpletable\">\n",
       "<tr>\n",
       "       <td></td>         <th>coef</th>     <th>std err</th>      <th>t</th>      <th>P>|t|</th>  <th>[0.025</th>    <th>0.975]</th>  \n",
       "</tr>\n",
       "<tr>\n",
       "  <th>const</th>      <td>    0.2686</td> <td>    0.025</td> <td>   10.772</td> <td> 0.000</td> <td>    0.220</td> <td>    0.318</td>\n",
       "</tr>\n",
       "<tr>\n",
       "  <th>yr</th>         <td>    0.2358</td> <td>    0.008</td> <td>   28.342</td> <td> 0.000</td> <td>    0.219</td> <td>    0.252</td>\n",
       "</tr>\n",
       "<tr>\n",
       "  <th>holiday</th>    <td>   -0.0944</td> <td>    0.026</td> <td>   -3.582</td> <td> 0.000</td> <td>   -0.146</td> <td>   -0.043</td>\n",
       "</tr>\n",
       "<tr>\n",
       "  <th>atemp</th>      <td>    0.4449</td> <td>    0.033</td> <td>   13.417</td> <td> 0.000</td> <td>    0.380</td> <td>    0.510</td>\n",
       "</tr>\n",
       "<tr>\n",
       "  <th>windspeed</th>  <td>   -0.1348</td> <td>    0.026</td> <td>   -5.250</td> <td> 0.000</td> <td>   -0.185</td> <td>   -0.084</td>\n",
       "</tr>\n",
       "<tr>\n",
       "  <th>January</th>    <td>   -0.0427</td> <td>    0.018</td> <td>   -2.362</td> <td> 0.019</td> <td>   -0.078</td> <td>   -0.007</td>\n",
       "</tr>\n",
       "<tr>\n",
       "  <th>July</th>       <td>   -0.0646</td> <td>    0.018</td> <td>   -3.685</td> <td> 0.000</td> <td>   -0.099</td> <td>   -0.030</td>\n",
       "</tr>\n",
       "<tr>\n",
       "  <th>September</th>  <td>    0.0610</td> <td>    0.016</td> <td>    3.831</td> <td> 0.000</td> <td>    0.030</td> <td>    0.092</td>\n",
       "</tr>\n",
       "<tr>\n",
       "  <th>light snow</th> <td>   -0.2834</td> <td>    0.025</td> <td>  -11.332</td> <td> 0.000</td> <td>   -0.333</td> <td>   -0.234</td>\n",
       "</tr>\n",
       "<tr>\n",
       "  <th>mist</th>       <td>   -0.0807</td> <td>    0.009</td> <td>   -9.099</td> <td> 0.000</td> <td>   -0.098</td> <td>   -0.063</td>\n",
       "</tr>\n",
       "<tr>\n",
       "  <th>spring</th>     <td>   -0.1079</td> <td>    0.016</td> <td>   -6.899</td> <td> 0.000</td> <td>   -0.139</td> <td>   -0.077</td>\n",
       "</tr>\n",
       "<tr>\n",
       "  <th>winter</th>     <td>    0.0351</td> <td>    0.012</td> <td>    2.843</td> <td> 0.005</td> <td>    0.011</td> <td>    0.059</td>\n",
       "</tr>\n",
       "</table>\n",
       "<table class=\"simpletable\">\n",
       "<tr>\n",
       "  <th>Omnibus:</th>       <td>59.176</td> <th>  Durbin-Watson:     </th> <td>   2.025</td>\n",
       "</tr>\n",
       "<tr>\n",
       "  <th>Prob(Omnibus):</th> <td> 0.000</td> <th>  Jarque-Bera (JB):  </th> <td> 144.775</td>\n",
       "</tr>\n",
       "<tr>\n",
       "  <th>Skew:</th>          <td>-0.604</td> <th>  Prob(JB):          </th> <td>3.65e-32</td>\n",
       "</tr>\n",
       "<tr>\n",
       "  <th>Kurtosis:</th>      <td> 5.314</td> <th>  Cond. No.          </th> <td>    14.8</td>\n",
       "</tr>\n",
       "</table><br/><br/>Warnings:<br/>[1] Standard Errors assume that the covariance matrix of the errors is correctly specified."
      ],
      "text/plain": [
       "<class 'statsmodels.iolib.summary.Summary'>\n",
       "\"\"\"\n",
       "                            OLS Regression Results                            \n",
       "==============================================================================\n",
       "Dep. Variable:                    cnt   R-squared:                       0.832\n",
       "Model:                            OLS   Adj. R-squared:                  0.828\n",
       "Method:                 Least Squares   F-statistic:                     224.4\n",
       "Date:                Mon, 05 Oct 2020   Prob (F-statistic):          5.82e-185\n",
       "Time:                        12:09:02   Log-Likelihood:                 493.53\n",
       "No. Observations:                 510   AIC:                            -963.1\n",
       "Df Residuals:                     498   BIC:                            -912.2\n",
       "Df Model:                          11                                         \n",
       "Covariance Type:            nonrobust                                         \n",
       "==============================================================================\n",
       "                 coef    std err          t      P>|t|      [0.025      0.975]\n",
       "------------------------------------------------------------------------------\n",
       "const          0.2686      0.025     10.772      0.000       0.220       0.318\n",
       "yr             0.2358      0.008     28.342      0.000       0.219       0.252\n",
       "holiday       -0.0944      0.026     -3.582      0.000      -0.146      -0.043\n",
       "atemp          0.4449      0.033     13.417      0.000       0.380       0.510\n",
       "windspeed     -0.1348      0.026     -5.250      0.000      -0.185      -0.084\n",
       "January       -0.0427      0.018     -2.362      0.019      -0.078      -0.007\n",
       "July          -0.0646      0.018     -3.685      0.000      -0.099      -0.030\n",
       "September      0.0610      0.016      3.831      0.000       0.030       0.092\n",
       "light snow    -0.2834      0.025    -11.332      0.000      -0.333      -0.234\n",
       "mist          -0.0807      0.009     -9.099      0.000      -0.098      -0.063\n",
       "spring        -0.1079      0.016     -6.899      0.000      -0.139      -0.077\n",
       "winter         0.0351      0.012      2.843      0.005       0.011       0.059\n",
       "==============================================================================\n",
       "Omnibus:                       59.176   Durbin-Watson:                   2.025\n",
       "Prob(Omnibus):                  0.000   Jarque-Bera (JB):              144.775\n",
       "Skew:                          -0.604   Prob(JB):                     3.65e-32\n",
       "Kurtosis:                       5.314   Cond. No.                         14.8\n",
       "==============================================================================\n",
       "\n",
       "Warnings:\n",
       "[1] Standard Errors assume that the covariance matrix of the errors is correctly specified.\n",
       "\"\"\""
      ]
     },
     "execution_count": 41,
     "metadata": {},
     "output_type": "execute_result"
    }
   ],
   "source": [
    "# statistical summary of MLR model\n",
    "lm.summary()"
   ]
  },
  {
   "cell_type": "code",
   "execution_count": 42,
   "metadata": {},
   "outputs": [
    {
     "data": {
      "text/html": [
       "<div>\n",
       "<style scoped>\n",
       "    .dataframe tbody tr th:only-of-type {\n",
       "        vertical-align: middle;\n",
       "    }\n",
       "\n",
       "    .dataframe tbody tr th {\n",
       "        vertical-align: top;\n",
       "    }\n",
       "\n",
       "    .dataframe thead th {\n",
       "        text-align: right;\n",
       "    }\n",
       "</style>\n",
       "<table border=\"1\" class=\"dataframe\">\n",
       "  <thead>\n",
       "    <tr style=\"text-align: right;\">\n",
       "      <th></th>\n",
       "      <th>Features</th>\n",
       "      <th>VIF</th>\n",
       "    </tr>\n",
       "  </thead>\n",
       "  <tbody>\n",
       "    <tr>\n",
       "      <th>2</th>\n",
       "      <td>atemp</td>\n",
       "      <td>4.54</td>\n",
       "    </tr>\n",
       "    <tr>\n",
       "      <th>3</th>\n",
       "      <td>windspeed</td>\n",
       "      <td>3.91</td>\n",
       "    </tr>\n",
       "    <tr>\n",
       "      <th>9</th>\n",
       "      <td>spring</td>\n",
       "      <td>2.24</td>\n",
       "    </tr>\n",
       "    <tr>\n",
       "      <th>0</th>\n",
       "      <td>yr</td>\n",
       "      <td>2.06</td>\n",
       "    </tr>\n",
       "    <tr>\n",
       "      <th>4</th>\n",
       "      <td>January</td>\n",
       "      <td>1.60</td>\n",
       "    </tr>\n",
       "    <tr>\n",
       "      <th>8</th>\n",
       "      <td>mist</td>\n",
       "      <td>1.53</td>\n",
       "    </tr>\n",
       "    <tr>\n",
       "      <th>10</th>\n",
       "      <td>winter</td>\n",
       "      <td>1.40</td>\n",
       "    </tr>\n",
       "    <tr>\n",
       "      <th>5</th>\n",
       "      <td>July</td>\n",
       "      <td>1.35</td>\n",
       "    </tr>\n",
       "    <tr>\n",
       "      <th>6</th>\n",
       "      <td>September</td>\n",
       "      <td>1.20</td>\n",
       "    </tr>\n",
       "    <tr>\n",
       "      <th>7</th>\n",
       "      <td>light snow</td>\n",
       "      <td>1.08</td>\n",
       "    </tr>\n",
       "    <tr>\n",
       "      <th>1</th>\n",
       "      <td>holiday</td>\n",
       "      <td>1.04</td>\n",
       "    </tr>\n",
       "  </tbody>\n",
       "</table>\n",
       "</div>"
      ],
      "text/plain": [
       "      Features   VIF\n",
       "2        atemp  4.54\n",
       "3    windspeed  3.91\n",
       "9       spring  2.24\n",
       "0           yr  2.06\n",
       "4      January  1.60\n",
       "8         mist  1.53\n",
       "10      winter  1.40\n",
       "5         July  1.35\n",
       "6    September  1.20\n",
       "7   light snow  1.08\n",
       "1      holiday  1.04"
      ]
     },
     "execution_count": 42,
     "metadata": {},
     "output_type": "execute_result"
    }
   ],
   "source": [
    "# Drop constant before finding vif\n",
    "X_train_rfe = X_train_rfe.drop(['const'], axis=1)\n",
    "\n",
    "# find vif\n",
    "vif = pd.DataFrame()\n",
    "X = X_train_rfe\n",
    "vif['Features'] = X.columns\n",
    "vif['VIF'] = [variance_inflation_factor(X.values, i) for i in range(X.shape[1])]\n",
    "vif['VIF'] = round(vif['VIF'], 2)\n",
    "vif = vif.sort_values(by = \"VIF\", ascending = False)\n",
    "vif"
   ]
  },
  {
   "cell_type": "markdown",
   "metadata": {},
   "source": [
    "From above analysis of train set:\n",
    "    - for all predictor variables p <0.05 and vif < 5\n",
    " "
   ]
  },
  {
   "cell_type": "markdown",
   "metadata": {},
   "source": [
    "# Step 6: Residual Analysis of the train data\n",
    "\n",
    "- check on error terms (residuals)\n",
    "    - nomally distribution - distplot\n",
    "    - constant variance - scatter plot"
   ]
  },
  {
   "cell_type": "code",
   "execution_count": 43,
   "metadata": {},
   "outputs": [],
   "source": [
    "# create new df and add contant term\n",
    "\n",
    "X_train_lm = sm.add_constant(X_train_rfe)"
   ]
  },
  {
   "cell_type": "code",
   "execution_count": 44,
   "metadata": {},
   "outputs": [],
   "source": [
    "# predit y_train_cnt\n",
    "y_train_cnt = lm.predict(X_train_lm)"
   ]
  },
  {
   "cell_type": "code",
   "execution_count": 45,
   "metadata": {},
   "outputs": [
    {
     "data": {
      "text/plain": [
       "<function matplotlib.pyplot.show(*args, **kw)>"
      ]
     },
     "execution_count": 45,
     "metadata": {},
     "output_type": "execute_result"
    },
    {
     "data": {
      "image/png": "[encoded data removed]",
      "text/plain": [
       "<Figure size 432x288 with 1 Axes>"
      ]
     },
     "metadata": {
      "needs_background": "light"
     },
     "output_type": "display_data"
    }
   ],
   "source": [
    "# Plot the histogram of the error terms\n",
    "fig = plt.figure()\n",
    "sns.distplot((y_train - y_train_cnt), bins = 22)\n",
    "fig.suptitle('Error Terms', fontsize = 20)                  \n",
    "plt.xlabel('Errors', fontsize = 18)                         \n",
    "plt.show"
   ]
  },
  {
   "cell_type": "code",
   "execution_count": 46,
   "metadata": {},
   "outputs": [
    {
     "data": {
      "text/plain": [
       "<matplotlib.collections.PathCollection at 0x201d9c06648>"
      ]
     },
     "execution_count": 46,
     "metadata": {},
     "output_type": "execute_result"
    },
    {
     "data": {
      "image/png": "[encoded data removed]",
      "text/plain": [
       "<Figure size 432x288 with 1 Axes>"
      ]
     },
     "metadata": {
      "needs_background": "light"
     },
     "output_type": "display_data"
    }
   ],
   "source": [
    "# Scatterplot on error terms\n",
    "# res = difference between y valus and predicted y value\n",
    "res = (y_train - y_train_cnt)\n",
    "\n",
    "plt.scatter(y_train_cnt,res)"
   ]
  },
  {
   "cell_type": "markdown",
   "metadata": {},
   "source": [
    "- From the plots it is visible that error terms are normally distributed with constant variance ."
   ]
  },
  {
   "cell_type": "markdown",
   "metadata": {},
   "source": [
    "## Step 7: Making Predictions on Test set\n",
    "\n",
    "     Now that the model is ready . perform analysis on test set.\n",
    "         - scale the predictor variables that are scaled in train set\n",
    "         \n"
   ]
  },
  {
   "cell_type": "code",
   "execution_count": 47,
   "metadata": {},
   "outputs": [],
   "source": [
    "# perform scaling - transform()\n",
    "num_vars = ['atemp', 'hum', 'windspeed', 'cnt']\n",
    "\n",
    "df_test[num_vars] = scaler.transform(df_test[num_vars])"
   ]
  },
  {
   "cell_type": "code",
   "execution_count": 48,
   "metadata": {},
   "outputs": [],
   "source": [
    "# create X_test,y_test data frames\n",
    "y_test = df_test.pop('cnt')\n",
    "X_test = df_test"
   ]
  },
  {
   "cell_type": "markdown",
   "metadata": {},
   "source": [
    "- select predictor variables on which the model has been built ."
   ]
  },
  {
   "cell_type": "code",
   "execution_count": 49,
   "metadata": {},
   "outputs": [],
   "source": [
    "# Creating X_test_new dataframe by dropping variables from X_test\n",
    "X_test_new = X_test[X_train_rfe.columns]\n",
    "\n",
    "# Adding a constant variable \n",
    "X_test_new = sm.add_constant(X_test_new)"
   ]
  },
  {
   "cell_type": "code",
   "execution_count": 50,
   "metadata": {},
   "outputs": [],
   "source": [
    "# Making predictions\n",
    "y_pred = lm.predict(X_test_new)"
   ]
  },
  {
   "cell_type": "markdown",
   "metadata": {},
   "source": [
    "# Step 8: Model Evaluation\n",
    "\n",
    "- Plot actual y_test vs predicted y.\n",
    "- Find r2 value of test set"
   ]
  },
  {
   "cell_type": "code",
   "execution_count": 51,
   "metadata": {},
   "outputs": [
    {
     "data": {
      "text/plain": [
       "Text(0, 0.5, 'y_pred')"
      ]
     },
     "execution_count": 51,
     "metadata": {},
     "output_type": "execute_result"
    },
    {
     "data": {
      "image/png": "[encoded data removed]",
      "text/plain": [
       "<Figure size 432x288 with 1 Axes>"
      ]
     },
     "metadata": {
      "needs_background": "light"
     },
     "output_type": "display_data"
    }
   ],
   "source": [
    "# Plotting y_test and y_pred to understand the spread.\n",
    "fig = plt.figure()\n",
    "plt.scatter(y_test,y_pred)\n",
    "fig.suptitle('y_test  vs  y_pred', fontsize=20)              # Plot heading \n",
    "plt.xlabel('y_test', fontsize=18)                          # X-label\n",
    "plt.ylabel('y_pred', fontsize=16)                          # Y-label"
   ]
  },
  {
   "cell_type": "code",
   "execution_count": 52,
   "metadata": {},
   "outputs": [
    {
     "name": "stdout",
     "output_type": "stream",
     "text": [
      "r2 score of train set =  0.8321013252958446\n",
      "r2 score of test set =  0.8051117242411236\n"
     ]
    }
   ],
   "source": [
    "# compare r2 score of train and test set\n",
    "\n",
    "print ( 'r2 score of train set = ', r2_score(y_true = y_train, y_pred=y_train_cnt) )\n",
    "print ( 'r2 score of test set = ', r2_score(y_true = y_test, y_pred=y_pred) )"
   ]
  },
  {
   "cell_type": "markdown",
   "metadata": {},
   "source": [
    "### Observations :"
   ]
  },
  {
   "cell_type": "markdown",
   "metadata": {},
   "source": [
    "The following variables are significant in predicting the demand for shared bikes:\n",
    "\n",
    "    1. temperature\n",
    "    2. windspeed\n",
    "    3. spring and winter season in US\n",
    "    4. year - the demand increased from 2018 to 2019.\n",
    "    5. January - feeling temperature is lowest (hence demand is lowest)\n",
    "    6. July - number of holidays is highest (hence demand is highest)\n",
    "    7. september - clear sky most prevalent (hence demand is highest)\n",
    "    8. holiday \n",
    "    9. when weather situation is light snow and mist\n",
    "    \n",
    "    "
   ]
  },
  {
   "cell_type": "code",
   "execution_count": null,
   "metadata": {},
   "outputs": [],
   "source": []
  }
 ],
 "metadata": {
  "kernelspec": {
   "display_name": "Python 3",
   "language": "python",
   "name": "python3"
  },
  "language_info": {
   "codemirror_mode": {
    "name": "ipython",
    "version": 3
   },
   "file_extension": ".py",
   "mimetype": "text/x-python",
   "name": "python",
   "nbconvert_exporter": "python",
   "pygments_lexer": "ipython3",
   "version": "3.8.5"
  }
 },
 "nbformat": 4,
 "nbformat_minor": 4
}
